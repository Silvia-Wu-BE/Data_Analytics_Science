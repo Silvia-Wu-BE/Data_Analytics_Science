{
 "cells": [
  {
   "cell_type": "markdown",
   "id": "25564361-c747-4a2b-aa5b-310b4e12b16d",
   "metadata": {},
   "source": [
    "# Data preparation"
   ]
  },
  {
   "cell_type": "code",
   "execution_count": 1,
   "id": "47c0e452-bc5c-4b2e-a916-efd14210dc8c",
   "metadata": {},
   "outputs": [],
   "source": [
    " # Import libraries\n",
    "import numpy as np\n",
    "import pandas as pd\n",
    "import seaborn as sns\n",
    "import matplotlib.pyplot as plt\n",
    "    \n",
    "%matplotlib inline"
   ]
  },
  {
   "cell_type": "code",
   "execution_count": 2,
   "id": "de3d1cf0-d908-4115-9b6e-84f0a8aeb165",
   "metadata": {},
   "outputs": [],
   "source": [
    "# Import ecommercetools modules\n",
    "from ecommercetools import utilities\n",
    "from ecommercetools import transactions\n",
    "from ecommercetools import customers"
   ]
  },
  {
   "cell_type": "code",
   "execution_count": 3,
   "id": "a856028d-7192-46c7-bb8e-03523318b927",
   "metadata": {},
   "outputs": [],
   "source": [
    "# Read the datasource to dataframe\n",
    "df=pd.read_excel(\"online_retail_II.xlsx\")"
   ]
  },
  {
   "cell_type": "markdown",
   "id": "9dab8607-2cc7-466f-aaa6-4077860e87ba",
   "metadata": {},
   "source": [
    "## Data overview"
   ]
  },
  {
   "cell_type": "code",
   "execution_count": 4,
   "id": "84d129d0-71a3-4bcb-addb-21082fe30235",
   "metadata": {},
   "outputs": [
    {
     "name": "stdout",
     "output_type": "stream",
     "text": [
      "<class 'pandas.core.frame.DataFrame'>\n",
      "RangeIndex: 525461 entries, 0 to 525460\n",
      "Data columns (total 8 columns):\n",
      " #   Column       Non-Null Count   Dtype         \n",
      "---  ------       --------------   -----         \n",
      " 0   Invoice      525461 non-null  object        \n",
      " 1   StockCode    525461 non-null  object        \n",
      " 2   Description  522533 non-null  object        \n",
      " 3   Quantity     525461 non-null  int64         \n",
      " 4   InvoiceDate  525461 non-null  datetime64[ns]\n",
      " 5   Price        525461 non-null  float64       \n",
      " 6   Customer ID  417534 non-null  float64       \n",
      " 7   Country      525461 non-null  object        \n",
      "dtypes: datetime64[ns](1), float64(2), int64(1), object(4)\n",
      "memory usage: 32.1+ MB\n"
     ]
    }
   ],
   "source": [
    "df.info()"
   ]
  },
  {
   "cell_type": "code",
   "execution_count": 5,
   "id": "76920f2b-a60c-4e7d-b049-3e2cbfb1c677",
   "metadata": {},
   "outputs": [
    {
     "data": {
      "text/html": [
       "<div>\n",
       "<style scoped>\n",
       "    .dataframe tbody tr th:only-of-type {\n",
       "        vertical-align: middle;\n",
       "    }\n",
       "\n",
       "    .dataframe tbody tr th {\n",
       "        vertical-align: top;\n",
       "    }\n",
       "\n",
       "    .dataframe thead th {\n",
       "        text-align: right;\n",
       "    }\n",
       "</style>\n",
       "<table border=\"1\" class=\"dataframe\">\n",
       "  <thead>\n",
       "    <tr style=\"text-align: right;\">\n",
       "      <th></th>\n",
       "      <th>Invoice</th>\n",
       "      <th>StockCode</th>\n",
       "      <th>Description</th>\n",
       "      <th>Quantity</th>\n",
       "      <th>InvoiceDate</th>\n",
       "      <th>Price</th>\n",
       "      <th>Customer ID</th>\n",
       "      <th>Country</th>\n",
       "    </tr>\n",
       "  </thead>\n",
       "  <tbody>\n",
       "    <tr>\n",
       "      <th>0</th>\n",
       "      <td>489434</td>\n",
       "      <td>85048</td>\n",
       "      <td>15CM CHRISTMAS GLASS BALL 20 LIGHTS</td>\n",
       "      <td>12</td>\n",
       "      <td>2009-12-01 07:45:00</td>\n",
       "      <td>6.95</td>\n",
       "      <td>13085.0</td>\n",
       "      <td>United Kingdom</td>\n",
       "    </tr>\n",
       "    <tr>\n",
       "      <th>1</th>\n",
       "      <td>489434</td>\n",
       "      <td>79323P</td>\n",
       "      <td>PINK CHERRY LIGHTS</td>\n",
       "      <td>12</td>\n",
       "      <td>2009-12-01 07:45:00</td>\n",
       "      <td>6.75</td>\n",
       "      <td>13085.0</td>\n",
       "      <td>United Kingdom</td>\n",
       "    </tr>\n",
       "    <tr>\n",
       "      <th>2</th>\n",
       "      <td>489434</td>\n",
       "      <td>79323W</td>\n",
       "      <td>WHITE CHERRY LIGHTS</td>\n",
       "      <td>12</td>\n",
       "      <td>2009-12-01 07:45:00</td>\n",
       "      <td>6.75</td>\n",
       "      <td>13085.0</td>\n",
       "      <td>United Kingdom</td>\n",
       "    </tr>\n",
       "    <tr>\n",
       "      <th>3</th>\n",
       "      <td>489434</td>\n",
       "      <td>22041</td>\n",
       "      <td>RECORD FRAME 7\" SINGLE SIZE</td>\n",
       "      <td>48</td>\n",
       "      <td>2009-12-01 07:45:00</td>\n",
       "      <td>2.10</td>\n",
       "      <td>13085.0</td>\n",
       "      <td>United Kingdom</td>\n",
       "    </tr>\n",
       "    <tr>\n",
       "      <th>4</th>\n",
       "      <td>489434</td>\n",
       "      <td>21232</td>\n",
       "      <td>STRAWBERRY CERAMIC TRINKET BOX</td>\n",
       "      <td>24</td>\n",
       "      <td>2009-12-01 07:45:00</td>\n",
       "      <td>1.25</td>\n",
       "      <td>13085.0</td>\n",
       "      <td>United Kingdom</td>\n",
       "    </tr>\n",
       "  </tbody>\n",
       "</table>\n",
       "</div>"
      ],
      "text/plain": [
       "  Invoice StockCode                          Description  Quantity  \\\n",
       "0  489434     85048  15CM CHRISTMAS GLASS BALL 20 LIGHTS        12   \n",
       "1  489434    79323P                   PINK CHERRY LIGHTS        12   \n",
       "2  489434    79323W                  WHITE CHERRY LIGHTS        12   \n",
       "3  489434     22041         RECORD FRAME 7\" SINGLE SIZE         48   \n",
       "4  489434     21232       STRAWBERRY CERAMIC TRINKET BOX        24   \n",
       "\n",
       "          InvoiceDate  Price  Customer ID         Country  \n",
       "0 2009-12-01 07:45:00   6.95      13085.0  United Kingdom  \n",
       "1 2009-12-01 07:45:00   6.75      13085.0  United Kingdom  \n",
       "2 2009-12-01 07:45:00   6.75      13085.0  United Kingdom  \n",
       "3 2009-12-01 07:45:00   2.10      13085.0  United Kingdom  \n",
       "4 2009-12-01 07:45:00   1.25      13085.0  United Kingdom  "
      ]
     },
     "execution_count": 5,
     "metadata": {},
     "output_type": "execute_result"
    }
   ],
   "source": [
    "df.head()"
   ]
  },
  {
   "cell_type": "code",
   "execution_count": 6,
   "id": "58f0cde6-3265-4633-a6de-de4e7cd60061",
   "metadata": {},
   "outputs": [
    {
     "data": {
      "text/plain": [
       "4383"
      ]
     },
     "execution_count": 6,
     "metadata": {},
     "output_type": "execute_result"
    }
   ],
   "source": [
    "# Check how many unique customers there are in the DF\n",
    "df[\"Customer ID\"].nunique()"
   ]
  },
  {
   "cell_type": "code",
   "execution_count": 7,
   "id": "51d53131-f272-46b6-b29c-46416a0d7e6c",
   "metadata": {},
   "outputs": [
    {
     "data": {
      "text/plain": [
       "10206"
      ]
     },
     "execution_count": 7,
     "metadata": {},
     "output_type": "execute_result"
    }
   ],
   "source": [
    "# Check if and how many transactions are for \"returns\"\n",
    "df.Invoice.str.contains(\"C\").sum()"
   ]
  },
  {
   "cell_type": "markdown",
   "id": "d85187c3-8e71-4e14-b635-ced56d6d2cd1",
   "metadata": {},
   "source": [
    "### From the data overview above, it is noted/concluded that\n",
    "- There are 4383 customers for the 525461 transactions.\n",
    "- For the data filtering, the following rows are to be excluded:\n",
    "    - The \"returned\" orders\n",
    "    - The null \"customer ID\"\n"
   ]
  },
  {
   "cell_type": "markdown",
   "id": "e59e1417-dd5d-41f3-b90a-eb9e3bd5e37a",
   "metadata": {},
   "source": [
    "## Data filtering to drop null \"customer ID\" and returned transactions"
   ]
  },
  {
   "cell_type": "code",
   "execution_count": 8,
   "id": "e039122b-4261-4300-9c78-c2876fa94154",
   "metadata": {},
   "outputs": [],
   "source": [
    "# Exclude the customer ID with \"null\" (only \"customer ID\" has null values, so, can directly use pandas dropna with the dataframe)\n",
    "df=df.copy()\n",
    "\n",
    "df=df.dropna()"
   ]
  },
  {
   "cell_type": "code",
   "execution_count": 16,
   "id": "387e01ac-e439-407a-bee2-c310334d614f",
   "metadata": {},
   "outputs": [],
   "source": [
    "# Drop the \"returned\" transaction rows\n",
    "df1=df.copy()\n",
    "df2 = df1[~df1['Invoice'].str.contains(\"C\",na=False)] # Set \"na=false\""
   ]
  },
  {
   "cell_type": "code",
   "execution_count": 17,
   "id": "982e8f7f-be03-4151-ad00-160934f26908",
   "metadata": {},
   "outputs": [
    {
     "name": "stdout",
     "output_type": "stream",
     "text": [
      "<class 'pandas.core.frame.DataFrame'>\n",
      "Int64Index: 407695 entries, 0 to 525460\n",
      "Data columns (total 8 columns):\n",
      " #   Column       Non-Null Count   Dtype         \n",
      "---  ------       --------------   -----         \n",
      " 0   Invoice      407695 non-null  object        \n",
      " 1   StockCode    407695 non-null  object        \n",
      " 2   Description  407695 non-null  object        \n",
      " 3   Quantity     407695 non-null  int64         \n",
      " 4   InvoiceDate  407695 non-null  datetime64[ns]\n",
      " 5   Price        407695 non-null  float64       \n",
      " 6   Customer ID  407695 non-null  float64       \n",
      " 7   Country      407695 non-null  object        \n",
      "dtypes: datetime64[ns](1), float64(2), int64(1), object(4)\n",
      "memory usage: 28.0+ MB\n"
     ]
    }
   ],
   "source": [
    "df2.info()"
   ]
  },
  {
   "cell_type": "code",
   "execution_count": 25,
   "id": "bd01f60a-d9d1-4eba-9841-a707f5a86e60",
   "metadata": {},
   "outputs": [
    {
     "data": {
      "text/html": [
       "<div>\n",
       "<style scoped>\n",
       "    .dataframe tbody tr th:only-of-type {\n",
       "        vertical-align: middle;\n",
       "    }\n",
       "\n",
       "    .dataframe tbody tr th {\n",
       "        vertical-align: top;\n",
       "    }\n",
       "\n",
       "    .dataframe thead th {\n",
       "        text-align: right;\n",
       "    }\n",
       "</style>\n",
       "<table border=\"1\" class=\"dataframe\">\n",
       "  <thead>\n",
       "    <tr style=\"text-align: right;\">\n",
       "      <th></th>\n",
       "      <th>Invoice</th>\n",
       "      <th>StockCode</th>\n",
       "      <th>Description</th>\n",
       "      <th>Quantity</th>\n",
       "      <th>InvoiceDate</th>\n",
       "      <th>Price</th>\n",
       "      <th>Customer ID</th>\n",
       "      <th>Country</th>\n",
       "    </tr>\n",
       "  </thead>\n",
       "  <tbody>\n",
       "    <tr>\n",
       "      <th>0</th>\n",
       "      <td>489434</td>\n",
       "      <td>85048</td>\n",
       "      <td>15CM CHRISTMAS GLASS BALL 20 LIGHTS</td>\n",
       "      <td>12</td>\n",
       "      <td>2009-12-01 07:45:00</td>\n",
       "      <td>6.95</td>\n",
       "      <td>13085.0</td>\n",
       "      <td>United Kingdom</td>\n",
       "    </tr>\n",
       "  </tbody>\n",
       "</table>\n",
       "</div>"
      ],
      "text/plain": [
       "  Invoice StockCode                          Description  Quantity  \\\n",
       "0  489434     85048  15CM CHRISTMAS GLASS BALL 20 LIGHTS        12   \n",
       "\n",
       "          InvoiceDate  Price  Customer ID         Country  \n",
       "0 2009-12-01 07:45:00   6.95      13085.0  United Kingdom  "
      ]
     },
     "execution_count": 25,
     "metadata": {},
     "output_type": "execute_result"
    }
   ],
   "source": [
    "df2.head(1)"
   ]
  },
  {
   "cell_type": "code",
   "execution_count": 22,
   "id": "b903438e-cc72-491d-817e-7d8d1d948bb8",
   "metadata": {},
   "outputs": [],
   "source": [
    "# Save DF to CSV for \"ecommercetools\" to use\n",
    "df2.to_csv('df2.csv')"
   ]
  },
  {
   "cell_type": "markdown",
   "id": "e55da680-b10c-4b04-a6f8-c8634c51b2d0",
   "metadata": {},
   "source": [
    "# Create dataframe with \"ecommercetools\" library"
   ]
  },
  {
   "cell_type": "code",
   "execution_count": 19,
   "id": "f58b7339-17e6-42ce-94b5-2e282714ca29",
   "metadata": {},
   "outputs": [],
   "source": [
    "# Load the sample data of \"ecommercetools\"\n",
    "transaction_items=utilities.load_sample_data()"
   ]
  },
  {
   "cell_type": "code",
   "execution_count": 23,
   "id": "09ecae96-5ae8-4a8e-b8b3-a7487483e3d8",
   "metadata": {},
   "outputs": [
    {
     "data": {
      "text/html": [
       "<div>\n",
       "<style scoped>\n",
       "    .dataframe tbody tr th:only-of-type {\n",
       "        vertical-align: middle;\n",
       "    }\n",
       "\n",
       "    .dataframe tbody tr th {\n",
       "        vertical-align: top;\n",
       "    }\n",
       "\n",
       "    .dataframe thead th {\n",
       "        text-align: right;\n",
       "    }\n",
       "</style>\n",
       "<table border=\"1\" class=\"dataframe\">\n",
       "  <thead>\n",
       "    <tr style=\"text-align: right;\">\n",
       "      <th></th>\n",
       "      <th>order_id</th>\n",
       "      <th>sku</th>\n",
       "      <th>description</th>\n",
       "      <th>quantity</th>\n",
       "      <th>order_date</th>\n",
       "      <th>unit_price</th>\n",
       "      <th>customer_id</th>\n",
       "      <th>country</th>\n",
       "      <th>line_price</th>\n",
       "    </tr>\n",
       "  </thead>\n",
       "  <tbody>\n",
       "    <tr>\n",
       "      <th>0</th>\n",
       "      <td>536365</td>\n",
       "      <td>85123A</td>\n",
       "      <td>WHITE HANGING HEART T-LIGHT HOLDER</td>\n",
       "      <td>6</td>\n",
       "      <td>2010-12-01 08:26:00</td>\n",
       "      <td>2.55</td>\n",
       "      <td>17850.0</td>\n",
       "      <td>United Kingdom</td>\n",
       "      <td>15.3</td>\n",
       "    </tr>\n",
       "  </tbody>\n",
       "</table>\n",
       "</div>"
      ],
      "text/plain": [
       "  order_id     sku                         description  quantity  \\\n",
       "0   536365  85123A  WHITE HANGING HEART T-LIGHT HOLDER         6   \n",
       "\n",
       "           order_date  unit_price  customer_id         country  line_price  \n",
       "0 2010-12-01 08:26:00        2.55      17850.0  United Kingdom        15.3  "
      ]
     },
     "execution_count": 23,
     "metadata": {},
     "output_type": "execute_result"
    }
   ],
   "source": [
    "transaction_items.head(1)"
   ]
  },
  {
   "cell_type": "code",
   "execution_count": 32,
   "id": "346f3e5e-3a7f-4daa-bd57-7a1aefa3cbac",
   "metadata": {},
   "outputs": [
    {
     "data": {
      "text/html": [
       "<div>\n",
       "<style scoped>\n",
       "    .dataframe tbody tr th:only-of-type {\n",
       "        vertical-align: middle;\n",
       "    }\n",
       "\n",
       "    .dataframe tbody tr th {\n",
       "        vertical-align: top;\n",
       "    }\n",
       "\n",
       "    .dataframe thead th {\n",
       "        text-align: right;\n",
       "    }\n",
       "</style>\n",
       "<table border=\"1\" class=\"dataframe\">\n",
       "  <thead>\n",
       "    <tr style=\"text-align: right;\">\n",
       "      <th></th>\n",
       "      <th>Unnamed: 0</th>\n",
       "      <th>order_id</th>\n",
       "      <th>sku</th>\n",
       "      <th>Description</th>\n",
       "      <th>quantity</th>\n",
       "      <th>order_date</th>\n",
       "      <th>unit_price</th>\n",
       "      <th>customer_id</th>\n",
       "      <th>Country</th>\n",
       "      <th>line_price</th>\n",
       "    </tr>\n",
       "  </thead>\n",
       "  <tbody>\n",
       "    <tr>\n",
       "      <th>0</th>\n",
       "      <td>0</td>\n",
       "      <td>489434</td>\n",
       "      <td>85048</td>\n",
       "      <td>15CM CHRISTMAS GLASS BALL 20 LIGHTS</td>\n",
       "      <td>12</td>\n",
       "      <td>2009-12-01 07:45:00</td>\n",
       "      <td>6.95</td>\n",
       "      <td>13085.0</td>\n",
       "      <td>United Kingdom</td>\n",
       "      <td>83.4</td>\n",
       "    </tr>\n",
       "    <tr>\n",
       "      <th>1</th>\n",
       "      <td>1</td>\n",
       "      <td>489434</td>\n",
       "      <td>79323P</td>\n",
       "      <td>PINK CHERRY LIGHTS</td>\n",
       "      <td>12</td>\n",
       "      <td>2009-12-01 07:45:00</td>\n",
       "      <td>6.75</td>\n",
       "      <td>13085.0</td>\n",
       "      <td>United Kingdom</td>\n",
       "      <td>81.0</td>\n",
       "    </tr>\n",
       "    <tr>\n",
       "      <th>2</th>\n",
       "      <td>2</td>\n",
       "      <td>489434</td>\n",
       "      <td>79323W</td>\n",
       "      <td>WHITE CHERRY LIGHTS</td>\n",
       "      <td>12</td>\n",
       "      <td>2009-12-01 07:45:00</td>\n",
       "      <td>6.75</td>\n",
       "      <td>13085.0</td>\n",
       "      <td>United Kingdom</td>\n",
       "      <td>81.0</td>\n",
       "    </tr>\n",
       "    <tr>\n",
       "      <th>3</th>\n",
       "      <td>3</td>\n",
       "      <td>489434</td>\n",
       "      <td>22041</td>\n",
       "      <td>RECORD FRAME 7\" SINGLE SIZE</td>\n",
       "      <td>48</td>\n",
       "      <td>2009-12-01 07:45:00</td>\n",
       "      <td>2.10</td>\n",
       "      <td>13085.0</td>\n",
       "      <td>United Kingdom</td>\n",
       "      <td>100.8</td>\n",
       "    </tr>\n",
       "    <tr>\n",
       "      <th>4</th>\n",
       "      <td>4</td>\n",
       "      <td>489434</td>\n",
       "      <td>21232</td>\n",
       "      <td>STRAWBERRY CERAMIC TRINKET BOX</td>\n",
       "      <td>24</td>\n",
       "      <td>2009-12-01 07:45:00</td>\n",
       "      <td>1.25</td>\n",
       "      <td>13085.0</td>\n",
       "      <td>United Kingdom</td>\n",
       "      <td>30.0</td>\n",
       "    </tr>\n",
       "  </tbody>\n",
       "</table>\n",
       "</div>"
      ],
      "text/plain": [
       "   Unnamed: 0  order_id     sku                          Description  \\\n",
       "0           0    489434   85048  15CM CHRISTMAS GLASS BALL 20 LIGHTS   \n",
       "1           1    489434  79323P                   PINK CHERRY LIGHTS   \n",
       "2           2    489434  79323W                  WHITE CHERRY LIGHTS   \n",
       "3           3    489434   22041         RECORD FRAME 7\" SINGLE SIZE    \n",
       "4           4    489434   21232       STRAWBERRY CERAMIC TRINKET BOX   \n",
       "\n",
       "   quantity          order_date  unit_price  customer_id         Country  \\\n",
       "0        12 2009-12-01 07:45:00        6.95      13085.0  United Kingdom   \n",
       "1        12 2009-12-01 07:45:00        6.75      13085.0  United Kingdom   \n",
       "2        12 2009-12-01 07:45:00        6.75      13085.0  United Kingdom   \n",
       "3        48 2009-12-01 07:45:00        2.10      13085.0  United Kingdom   \n",
       "4        24 2009-12-01 07:45:00        1.25      13085.0  United Kingdom   \n",
       "\n",
       "   line_price  \n",
       "0        83.4  \n",
       "1        81.0  \n",
       "2        81.0  \n",
       "3       100.8  \n",
       "4        30.0  "
      ]
     },
     "execution_count": 32,
     "metadata": {},
     "output_type": "execute_result"
    }
   ],
   "source": [
    "# Map the data frame to sample data fields\n",
    "df3=utilities.load_transaction_items('df2.csv',\n",
    "                                                   date_column='InvoiceDate',\n",
    "                                                   order_id_column='Invoice',\n",
    "                                                   customer_id_column='Customer ID',\n",
    "                                                   sku_column='StockCode',\n",
    "                                                   quantity_column='Quantity',\n",
    "                                                   unit_price_column='Price'\n",
    "                                                  )\n",
    "df3.head()\n",
    "                                                   "
   ]
  },
  {
   "cell_type": "code",
   "execution_count": 26,
   "id": "0d577cd5-e78f-41cf-84e2-6b4c74847370",
   "metadata": {},
   "outputs": [
    {
     "data": {
      "text/html": [
       "<div>\n",
       "<style scoped>\n",
       "    .dataframe tbody tr th:only-of-type {\n",
       "        vertical-align: middle;\n",
       "    }\n",
       "\n",
       "    .dataframe tbody tr th {\n",
       "        vertical-align: top;\n",
       "    }\n",
       "\n",
       "    .dataframe thead th {\n",
       "        text-align: right;\n",
       "    }\n",
       "</style>\n",
       "<table border=\"1\" class=\"dataframe\">\n",
       "  <thead>\n",
       "    <tr style=\"text-align: right;\">\n",
       "      <th></th>\n",
       "      <th>customer_id</th>\n",
       "      <th>order_id</th>\n",
       "      <th>order_date</th>\n",
       "      <th>acquisition_cohort</th>\n",
       "      <th>order_cohort</th>\n",
       "    </tr>\n",
       "  </thead>\n",
       "  <tbody>\n",
       "    <tr>\n",
       "      <th>0</th>\n",
       "      <td>13085.0</td>\n",
       "      <td>489434</td>\n",
       "      <td>2009-12-01 07:45:00</td>\n",
       "      <td>2009-12</td>\n",
       "      <td>2009-12</td>\n",
       "    </tr>\n",
       "    <tr>\n",
       "      <th>8</th>\n",
       "      <td>13085.0</td>\n",
       "      <td>489435</td>\n",
       "      <td>2009-12-01 07:46:00</td>\n",
       "      <td>2009-12</td>\n",
       "      <td>2009-12</td>\n",
       "    </tr>\n",
       "    <tr>\n",
       "      <th>12</th>\n",
       "      <td>13078.0</td>\n",
       "      <td>489436</td>\n",
       "      <td>2009-12-01 09:06:00</td>\n",
       "      <td>2009-12</td>\n",
       "      <td>2009-12</td>\n",
       "    </tr>\n",
       "    <tr>\n",
       "      <th>31</th>\n",
       "      <td>15362.0</td>\n",
       "      <td>489437</td>\n",
       "      <td>2009-12-01 09:08:00</td>\n",
       "      <td>2009-12</td>\n",
       "      <td>2009-12</td>\n",
       "    </tr>\n",
       "    <tr>\n",
       "      <th>54</th>\n",
       "      <td>18102.0</td>\n",
       "      <td>489438</td>\n",
       "      <td>2009-12-01 09:24:00</td>\n",
       "      <td>2009-12</td>\n",
       "      <td>2009-12</td>\n",
       "    </tr>\n",
       "  </tbody>\n",
       "</table>\n",
       "</div>"
      ],
      "text/plain": [
       "    customer_id  order_id          order_date acquisition_cohort order_cohort\n",
       "0       13085.0    489434 2009-12-01 07:45:00            2009-12      2009-12\n",
       "8       13085.0    489435 2009-12-01 07:46:00            2009-12      2009-12\n",
       "12      13078.0    489436 2009-12-01 09:06:00            2009-12      2009-12\n",
       "31      15362.0    489437 2009-12-01 09:08:00            2009-12      2009-12\n",
       "54      18102.0    489438 2009-12-01 09:24:00            2009-12      2009-12"
      ]
     },
     "execution_count": 26,
     "metadata": {},
     "output_type": "execute_result"
    }
   ],
   "source": [
    "# Create the customer cohort analysis dataframe\n",
    "cohorts_df=customers.get_cohorts(df3,period='M')\n",
    "cohorts_df.head()"
   ]
  },
  {
   "cell_type": "code",
   "execution_count": 28,
   "id": "1d26413b-f55b-426d-a360-01c4d09f9e68",
   "metadata": {},
   "outputs": [
    {
     "data": {
      "text/html": [
       "<div>\n",
       "<style scoped>\n",
       "    .dataframe tbody tr th:only-of-type {\n",
       "        vertical-align: middle;\n",
       "    }\n",
       "\n",
       "    .dataframe tbody tr th {\n",
       "        vertical-align: top;\n",
       "    }\n",
       "\n",
       "    .dataframe thead th {\n",
       "        text-align: right;\n",
       "    }\n",
       "</style>\n",
       "<table border=\"1\" class=\"dataframe\">\n",
       "  <thead>\n",
       "    <tr style=\"text-align: right;\">\n",
       "      <th>periods</th>\n",
       "      <th>0</th>\n",
       "      <th>1</th>\n",
       "      <th>2</th>\n",
       "      <th>3</th>\n",
       "      <th>4</th>\n",
       "      <th>5</th>\n",
       "      <th>6</th>\n",
       "      <th>7</th>\n",
       "      <th>8</th>\n",
       "      <th>9</th>\n",
       "      <th>10</th>\n",
       "      <th>11</th>\n",
       "      <th>12</th>\n",
       "    </tr>\n",
       "    <tr>\n",
       "      <th>acquisition_cohort</th>\n",
       "      <th></th>\n",
       "      <th></th>\n",
       "      <th></th>\n",
       "      <th></th>\n",
       "      <th></th>\n",
       "      <th></th>\n",
       "      <th></th>\n",
       "      <th></th>\n",
       "      <th></th>\n",
       "      <th></th>\n",
       "      <th></th>\n",
       "      <th></th>\n",
       "      <th></th>\n",
       "    </tr>\n",
       "  </thead>\n",
       "  <tbody>\n",
       "    <tr>\n",
       "      <th>2009-12</th>\n",
       "      <td>1.0</td>\n",
       "      <td>0.352880</td>\n",
       "      <td>0.334031</td>\n",
       "      <td>0.425131</td>\n",
       "      <td>0.380105</td>\n",
       "      <td>0.359162</td>\n",
       "      <td>0.376963</td>\n",
       "      <td>0.342408</td>\n",
       "      <td>0.336126</td>\n",
       "      <td>0.362304</td>\n",
       "      <td>0.421990</td>\n",
       "      <td>0.495288</td>\n",
       "      <td>0.248168</td>\n",
       "    </tr>\n",
       "    <tr>\n",
       "      <th>2010-01</th>\n",
       "      <td>1.0</td>\n",
       "      <td>0.206266</td>\n",
       "      <td>0.310705</td>\n",
       "      <td>0.305483</td>\n",
       "      <td>0.263708</td>\n",
       "      <td>0.300261</td>\n",
       "      <td>0.258486</td>\n",
       "      <td>0.229765</td>\n",
       "      <td>0.279373</td>\n",
       "      <td>0.318538</td>\n",
       "      <td>0.302872</td>\n",
       "      <td>0.099217</td>\n",
       "      <td>NaN</td>\n",
       "    </tr>\n",
       "    <tr>\n",
       "      <th>2010-02</th>\n",
       "      <td>1.0</td>\n",
       "      <td>0.236702</td>\n",
       "      <td>0.223404</td>\n",
       "      <td>0.289894</td>\n",
       "      <td>0.244681</td>\n",
       "      <td>0.199468</td>\n",
       "      <td>0.191489</td>\n",
       "      <td>0.284574</td>\n",
       "      <td>0.252660</td>\n",
       "      <td>0.273936</td>\n",
       "      <td>0.071809</td>\n",
       "      <td>NaN</td>\n",
       "      <td>NaN</td>\n",
       "    </tr>\n",
       "    <tr>\n",
       "      <th>2010-03</th>\n",
       "      <td>1.0</td>\n",
       "      <td>0.189616</td>\n",
       "      <td>0.230248</td>\n",
       "      <td>0.241535</td>\n",
       "      <td>0.232506</td>\n",
       "      <td>0.203160</td>\n",
       "      <td>0.246050</td>\n",
       "      <td>0.302483</td>\n",
       "      <td>0.275395</td>\n",
       "      <td>0.079007</td>\n",
       "      <td>NaN</td>\n",
       "      <td>NaN</td>\n",
       "      <td>NaN</td>\n",
       "    </tr>\n",
       "    <tr>\n",
       "      <th>2010-04</th>\n",
       "      <td>1.0</td>\n",
       "      <td>0.193878</td>\n",
       "      <td>0.193878</td>\n",
       "      <td>0.163265</td>\n",
       "      <td>0.183673</td>\n",
       "      <td>0.224490</td>\n",
       "      <td>0.275510</td>\n",
       "      <td>0.261905</td>\n",
       "      <td>0.068027</td>\n",
       "      <td>NaN</td>\n",
       "      <td>NaN</td>\n",
       "      <td>NaN</td>\n",
       "      <td>NaN</td>\n",
       "    </tr>\n",
       "  </tbody>\n",
       "</table>\n",
       "</div>"
      ],
      "text/plain": [
       "periods              0         1         2         3         4         5   \\\n",
       "acquisition_cohort                                                          \n",
       "2009-12             1.0  0.352880  0.334031  0.425131  0.380105  0.359162   \n",
       "2010-01             1.0  0.206266  0.310705  0.305483  0.263708  0.300261   \n",
       "2010-02             1.0  0.236702  0.223404  0.289894  0.244681  0.199468   \n",
       "2010-03             1.0  0.189616  0.230248  0.241535  0.232506  0.203160   \n",
       "2010-04             1.0  0.193878  0.193878  0.163265  0.183673  0.224490   \n",
       "\n",
       "periods                   6         7         8         9         10  \\\n",
       "acquisition_cohort                                                     \n",
       "2009-12             0.376963  0.342408  0.336126  0.362304  0.421990   \n",
       "2010-01             0.258486  0.229765  0.279373  0.318538  0.302872   \n",
       "2010-02             0.191489  0.284574  0.252660  0.273936  0.071809   \n",
       "2010-03             0.246050  0.302483  0.275395  0.079007       NaN   \n",
       "2010-04             0.275510  0.261905  0.068027       NaN       NaN   \n",
       "\n",
       "periods                   11        12  \n",
       "acquisition_cohort                      \n",
       "2009-12             0.495288  0.248168  \n",
       "2010-01             0.099217       NaN  \n",
       "2010-02                  NaN       NaN  \n",
       "2010-03                  NaN       NaN  \n",
       "2010-04                  NaN       NaN  "
      ]
     },
     "execution_count": 28,
     "metadata": {},
     "output_type": "execute_result"
    }
   ],
   "source": [
    "# Create the customer cohort matrix\n",
    "cohort_matrix_df=customers.get_cohort_matrix(df3,period='M',percentage=True)\n",
    "cohort_matrix_df.head()"
   ]
  },
  {
   "cell_type": "markdown",
   "id": "74a4d11f-7395-411a-8c6c-87a272e0372a",
   "metadata": {},
   "source": [
    "## Visualize the cohort analysis with heatmap"
   ]
  },
  {
   "cell_type": "code",
   "execution_count": 30,
   "id": "80b735cb-6e1d-4753-8b5e-b8fa4010cd82",
   "metadata": {},
   "outputs": [
    {
     "data": {
      "image/png": "[encoded data removed]",
      "text/plain": [
       "<Figure size 1296x648 with 2 Axes>"
      ]
     },
     "metadata": {
      "needs_background": "light"
     },
     "output_type": "display_data"
    }
   ],
   "source": [
    "plt.figure(figsize=(18,9))\n",
    "plt.title('Retention % per cohort')\n",
    "ax=sns.heatmap(cohort_matrix_df.iloc[:,1:],annot=True,fmt='.1%',linewidths=0.5,linecolor='Grey')\n",
    "ax.tick_params(left=False,bottom=False)"
   ]
  },
  {
   "cell_type": "code",
   "execution_count": null,
   "id": "a71acf06-96ae-49fe-9340-fe8cf58274e1",
   "metadata": {},
   "outputs": [],
   "source": []
  }
 ],
 "metadata": {
  "kernelspec": {
   "display_name": "Python 3.9.7 ('base')",
   "language": "python",
   "name": "python397jvsc74a57bd0b86d116a77f5053c6e2ace5061a5105875eadd7921eba7552adeb1f39f3d28cf"
  },
  "language_info": {
   "codemirror_mode": {
    "name": "ipython",
    "version": 3
   },
   "file_extension": ".py",
   "mimetype": "text/x-python",
   "name": "python",
   "nbconvert_exporter": "python",
   "pygments_lexer": "ipython3",
   "version": "3.9.7"
  }
 },
 "nbformat": 4,
 "nbformat_minor": 5
}
