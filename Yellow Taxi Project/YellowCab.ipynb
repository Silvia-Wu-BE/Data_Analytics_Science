{
 "cells": [
  {
   "cell_type": "code",
   "execution_count": 1,
   "id": "2817697c-f613-4695-a947-5d0a35e592e9",
   "metadata": {},
   "outputs": [],
   "source": [
    "from pathlib import Path\n",
    "import pandas as pd\n",
    "import vaex\n",
    "import warnings; warnings.filterwarnings(\"ignore\")\n",
    "import numpy as np"
   ]
  },
  {
   "cell_type": "code",
   "execution_count": 2,
   "id": "587792d0-b824-4543-9ae0-11e98208f3b2",
   "metadata": {},
   "outputs": [
    {
     "data": {
      "text/plain": [
       "127520479"
      ]
     },
     "execution_count": 2,
     "metadata": {},
     "output_type": "execute_result"
    }
   ],
   "source": [
    "# Use vaex to open and concat the parquet files\n",
    "taxi = vaex.open_many(['/Users/silviawu/Downloads/YellowTaxi/Trips2018_2021/*.parquet'])\n",
    "# Check the dataset length\n",
    "len(taxi)"
   ]
  },
  {
   "cell_type": "markdown",
   "id": "9cbc0a23-8ddc-4f16-9d63-92b03cca6e07",
   "metadata": {},
   "source": [
    "# Diagnoze the the data quality issues"
   ]
  },
  {
   "cell_type": "code",
   "execution_count": 3,
   "id": "b202fd69-2535-4dfe-88bb-85b17525d0da",
   "metadata": {},
   "outputs": [],
   "source": [
    "# Add a trip duration column\n",
    "taxi['trip_duration']=(taxi['tpep_dropoff_datetime']-taxi['tpep_pickup_datetime'])"
   ]
  },
  {
   "cell_type": "code",
   "execution_count": 4,
   "id": "d384031e-fe70-4b9b-89ae-fea4a26b200d",
   "metadata": {},
   "outputs": [
    {
     "data": {
      "text/html": [
       "<div>\n",
       "<style scoped>\n",
       "    .dataframe tbody tr th:only-of-type {\n",
       "        vertical-align: middle;\n",
       "    }\n",
       "\n",
       "    .dataframe tbody tr th {\n",
       "        vertical-align: top;\n",
       "    }\n",
       "\n",
       "    .dataframe thead th {\n",
       "        text-align: right;\n",
       "    }\n",
       "</style>\n",
       "<table border=\"1\" class=\"dataframe\">\n",
       "  <thead>\n",
       "    <tr style=\"text-align: right;\">\n",
       "      <th></th>\n",
       "      <th>VendorID</th>\n",
       "      <th>tpep_pickup_datetime</th>\n",
       "      <th>tpep_dropoff_datetime</th>\n",
       "      <th>passenger_count</th>\n",
       "      <th>trip_distance</th>\n",
       "      <th>RatecodeID</th>\n",
       "      <th>store_and_fwd_flag</th>\n",
       "      <th>PULocationID</th>\n",
       "      <th>DOLocationID</th>\n",
       "      <th>payment_type</th>\n",
       "      <th>fare_amount</th>\n",
       "      <th>extra</th>\n",
       "      <th>mta_tax</th>\n",
       "      <th>tip_amount</th>\n",
       "      <th>tolls_amount</th>\n",
       "      <th>improvement_surcharge</th>\n",
       "      <th>total_amount</th>\n",
       "      <th>congestion_surcharge</th>\n",
       "      <th>airport_fee</th>\n",
       "      <th>trip_duration</th>\n",
       "    </tr>\n",
       "  </thead>\n",
       "  <tbody>\n",
       "    <tr>\n",
       "      <th>data_type</th>\n",
       "      <td>int64</td>\n",
       "      <td>datetime64[us]</td>\n",
       "      <td>datetime64[us]</td>\n",
       "      <td>float64</td>\n",
       "      <td>float64</td>\n",
       "      <td>float64</td>\n",
       "      <td>string</td>\n",
       "      <td>int64</td>\n",
       "      <td>int64</td>\n",
       "      <td>int64</td>\n",
       "      <td>float64</td>\n",
       "      <td>float64</td>\n",
       "      <td>float64</td>\n",
       "      <td>float64</td>\n",
       "      <td>float64</td>\n",
       "      <td>float64</td>\n",
       "      <td>float64</td>\n",
       "      <td>float64</td>\n",
       "      <td>float64</td>\n",
       "      <td>duration[us]</td>\n",
       "    </tr>\n",
       "    <tr>\n",
       "      <th>count</th>\n",
       "      <td>127520479</td>\n",
       "      <td>127520479</td>\n",
       "      <td>127520479</td>\n",
       "      <td>126652068</td>\n",
       "      <td>127520479</td>\n",
       "      <td>126652068</td>\n",
       "      <td>126652068</td>\n",
       "      <td>127520479</td>\n",
       "      <td>127520479</td>\n",
       "      <td>127520479</td>\n",
       "      <td>127520479</td>\n",
       "      <td>127520479</td>\n",
       "      <td>127520479</td>\n",
       "      <td>127520479</td>\n",
       "      <td>127520479</td>\n",
       "      <td>127520479</td>\n",
       "      <td>127520479</td>\n",
       "      <td>23839165</td>\n",
       "      <td>33</td>\n",
       "      <td>127520479</td>\n",
       "    </tr>\n",
       "    <tr>\n",
       "      <th>NA</th>\n",
       "      <td>0</td>\n",
       "      <td>0</td>\n",
       "      <td>0</td>\n",
       "      <td>868411</td>\n",
       "      <td>0</td>\n",
       "      <td>868411</td>\n",
       "      <td>868411</td>\n",
       "      <td>0</td>\n",
       "      <td>0</td>\n",
       "      <td>0</td>\n",
       "      <td>0</td>\n",
       "      <td>0</td>\n",
       "      <td>0</td>\n",
       "      <td>0</td>\n",
       "      <td>0</td>\n",
       "      <td>0</td>\n",
       "      <td>0</td>\n",
       "      <td>103681314</td>\n",
       "      <td>127520446</td>\n",
       "      <td>0</td>\n",
       "    </tr>\n",
       "    <tr>\n",
       "      <th>mean</th>\n",
       "      <td>1.609570632180577</td>\n",
       "      <td>1970-01-01T16:55:53.718790</td>\n",
       "      <td>1970-01-01T17:12:31.160434</td>\n",
       "      <td>1.5710331946573506</td>\n",
       "      <td>3.0530319219556015</td>\n",
       "      <td>1.04981906809449</td>\n",
       "      <td>--</td>\n",
       "      <td>163.33529774460774</td>\n",
       "      <td>161.36566902324762</td>\n",
       "      <td>1.2987283713073254</td>\n",
       "      <td>12.997991330926455</td>\n",
       "      <td>0.47511236685363206</td>\n",
       "      <td>0.5001398863942472</td>\n",
       "      <td>1.9140168497914312</td>\n",
       "      <td>0.3392116176846199</td>\n",
       "      <td>0.29919489926451226</td>\n",
       "      <td>16.81577508377325</td>\n",
       "      <td>2.271166725009034</td>\n",
       "      <td>0.0</td>\n",
       "      <td>997441643 microseconds</td>\n",
       "    </tr>\n",
       "    <tr>\n",
       "      <th>std</th>\n",
       "      <td>0.517943</td>\n",
       "      <td>24797224549687.105469</td>\n",
       "      <td>24798605650037.945312</td>\n",
       "      <td>1.219065</td>\n",
       "      <td>143.929967</td>\n",
       "      <td>0.758476</td>\n",
       "      <td>--</td>\n",
       "      <td>66.57976</td>\n",
       "      <td>70.526013</td>\n",
       "      <td>0.494775</td>\n",
       "      <td>181.279923</td>\n",
       "      <td>44.283513</td>\n",
       "      <td>44.277224</td>\n",
       "      <td>2.612825</td>\n",
       "      <td>1.760307</td>\n",
       "      <td>0.443303</td>\n",
       "      <td>201.929564</td>\n",
       "      <td>0.747343</td>\n",
       "      <td>0.0</td>\n",
       "      <td>264054322207.179718</td>\n",
       "    </tr>\n",
       "    <tr>\n",
       "      <th>min</th>\n",
       "      <td>1</td>\n",
       "      <td>2001-01-01T00:01:55.138560</td>\n",
       "      <td>1926-08-10T21:42:07.153152</td>\n",
       "      <td>0.0</td>\n",
       "      <td>-30.62</td>\n",
       "      <td>1.0</td>\n",
       "      <td>--</td>\n",
       "      <td>1</td>\n",
       "      <td>1</td>\n",
       "      <td>0</td>\n",
       "      <td>-1259.0</td>\n",
       "      <td>-80.0</td>\n",
       "      <td>-0.5</td>\n",
       "      <td>-493.22</td>\n",
       "      <td>-52.5</td>\n",
       "      <td>-0.3</td>\n",
       "      <td>-1260.3</td>\n",
       "      <td>-2.5</td>\n",
       "      <td>0.0</td>\n",
       "      <td>-2911502763819008 microseconds</td>\n",
       "    </tr>\n",
       "    <tr>\n",
       "      <th>max</th>\n",
       "      <td>6</td>\n",
       "      <td>2084-11-04T12:32:52.146176</td>\n",
       "      <td>2084-11-04T12:46:17.452544</td>\n",
       "      <td>192.0</td>\n",
       "      <td>350914.89</td>\n",
       "      <td>99.0</td>\n",
       "      <td>--</td>\n",
       "      <td>265</td>\n",
       "      <td>265</td>\n",
       "      <td>5</td>\n",
       "      <td>998310.03</td>\n",
       "      <td>500000.8</td>\n",
       "      <td>500000.5</td>\n",
       "      <td>1393.56</td>\n",
       "      <td>1650.0</td>\n",
       "      <td>4000.3</td>\n",
       "      <td>1000003.8</td>\n",
       "      <td>3.0</td>\n",
       "      <td>0.0</td>\n",
       "      <td>1730218033152 microseconds</td>\n",
       "    </tr>\n",
       "  </tbody>\n",
       "</table>\n",
       "</div>"
      ],
      "text/plain": [
       "                    VendorID        tpep_pickup_datetime  \\\n",
       "data_type              int64              datetime64[us]   \n",
       "count              127520479                   127520479   \n",
       "NA                         0                           0   \n",
       "mean       1.609570632180577  1970-01-01T16:55:53.718790   \n",
       "std                 0.517943       24797224549687.105469   \n",
       "min                        1  2001-01-01T00:01:55.138560   \n",
       "max                        6  2084-11-04T12:32:52.146176   \n",
       "\n",
       "                tpep_dropoff_datetime     passenger_count       trip_distance  \\\n",
       "data_type              datetime64[us]             float64             float64   \n",
       "count                       127520479           126652068           127520479   \n",
       "NA                                  0              868411                   0   \n",
       "mean       1970-01-01T17:12:31.160434  1.5710331946573506  3.0530319219556015   \n",
       "std             24798605650037.945312            1.219065          143.929967   \n",
       "min        1926-08-10T21:42:07.153152                 0.0              -30.62   \n",
       "max        2084-11-04T12:46:17.452544               192.0           350914.89   \n",
       "\n",
       "                 RatecodeID store_and_fwd_flag        PULocationID  \\\n",
       "data_type           float64             string               int64   \n",
       "count             126652068          126652068           127520479   \n",
       "NA                   868411             868411                   0   \n",
       "mean       1.04981906809449                 --  163.33529774460774   \n",
       "std                0.758476                 --            66.57976   \n",
       "min                     1.0                 --                   1   \n",
       "max                    99.0                 --                 265   \n",
       "\n",
       "                 DOLocationID        payment_type         fare_amount  \\\n",
       "data_type               int64               int64             float64   \n",
       "count               127520479           127520479           127520479   \n",
       "NA                          0                   0                   0   \n",
       "mean       161.36566902324762  1.2987283713073254  12.997991330926455   \n",
       "std                 70.526013            0.494775          181.279923   \n",
       "min                         1                   0             -1259.0   \n",
       "max                       265                   5           998310.03   \n",
       "\n",
       "                         extra             mta_tax          tip_amount  \\\n",
       "data_type              float64             float64             float64   \n",
       "count                127520479           127520479           127520479   \n",
       "NA                           0                   0                   0   \n",
       "mean       0.47511236685363206  0.5001398863942472  1.9140168497914312   \n",
       "std                  44.283513           44.277224            2.612825   \n",
       "min                      -80.0                -0.5             -493.22   \n",
       "max                   500000.8            500000.5             1393.56   \n",
       "\n",
       "                 tolls_amount improvement_surcharge       total_amount  \\\n",
       "data_type             float64               float64            float64   \n",
       "count               127520479             127520479          127520479   \n",
       "NA                          0                     0                  0   \n",
       "mean       0.3392116176846199   0.29919489926451226  16.81577508377325   \n",
       "std                  1.760307              0.443303         201.929564   \n",
       "min                     -52.5                  -0.3            -1260.3   \n",
       "max                    1650.0                4000.3          1000003.8   \n",
       "\n",
       "          congestion_surcharge airport_fee                   trip_duration  \n",
       "data_type              float64     float64                    duration[us]  \n",
       "count                 23839165          33                       127520479  \n",
       "NA                   103681314   127520446                               0  \n",
       "mean         2.271166725009034         0.0          997441643 microseconds  \n",
       "std                   0.747343         0.0             264054322207.179718  \n",
       "min                       -2.5         0.0  -2911502763819008 microseconds  \n",
       "max                        3.0         0.0      1730218033152 microseconds  "
      ]
     },
     "execution_count": 4,
     "metadata": {},
     "output_type": "execute_result"
    }
   ],
   "source": [
    "taxi.describe()"
   ]
  },
  {
   "cell_type": "markdown",
   "id": "f1774005-e0c3-43a4-87ff-6e03560468dc",
   "metadata": {},
   "source": [
    "## The fields without problem\n",
    "- \"VendorID\" field is complete and looks correct\n",
    "- \"PULocationID\" \"DOLocationID\" are complete and have no abnormal values\n",
    "- \"payment_type\" looks right, without missing values\n",
    "- \"airport_fee\" looks right\n",
    "\n",
    "## The data fields that have problems \n",
    "- \"tpep_pickup_datetime\" and \"tpep_dropoff_datetime\" are complete but there are abnormal values (as early as year 1926 and as late as 2098)\n",
    "- \"passenger_count\" has abnormal values (as many as 192 for a taxi)\n",
    "- \"trip_distance\" has abnormal values (negative as \"-37264.53\" as high as \"351613.36\")\n",
    "- \"RatecodeID\" has missing values\n",
    "- \"RatecodeID\" has abormal values \"99\"\n",
    "- \"store_and_fwd_flag\" has missing values\n",
    "- \"fare_amount\textra\tmta_tax\ttip_amount\ttolls_amount\timprovement_surcharge\ttotal_amount\tcongestion_surcharge\" have negative values\n",
    "- \"fare_amount\textra\tmta_tax\ttip_amount\ttolls_amount\timprovement_surcharge\ttotal_amount\tcongestion_surcharge\" have too high values\n",
    "- \"trip_duration\" has negative value\n",
    "- \"trip_duration\" has too high value"
   ]
  },
  {
   "cell_type": "code",
   "execution_count": 5,
   "id": "46a3087f-68e3-4929-8663-c1d627c12505",
   "metadata": {},
   "outputs": [
    {
     "data": {
      "text/plain": [
       "missing      868411\n",
       "1.0        90592075\n",
       "2.0        18437287\n",
       "5.0         5354580\n",
       "3.0         5167704\n",
       "6.0         3257609\n",
       "4.0         2419179\n",
       "0.0         1422452\n",
       "7.0             482\n",
       "8.0             372\n",
       "9.0             326\n",
       "192.0             1\n",
       "96.0              1\n",
       "dtype: int64"
      ]
     },
     "execution_count": 5,
     "metadata": {},
     "output_type": "execute_result"
    }
   ],
   "source": [
    "# Further check the \"passenger #\"\n",
    "taxi.passenger_count.value_counts()"
   ]
  },
  {
   "cell_type": "markdown",
   "id": "2316a550-fa14-4a21-9f22-d1e9ba004cb9",
   "metadata": {},
   "source": [
    "\"passenger_count\" further check conclusion\n",
    "1. Missing values: \"missing\" and 0\n",
    "2. The records with 7 or more passengers seem not normal, because according to the NYC city [website](https://www.nyc.gov/site/tlc/passengers/passenger-frequently-asked-questions.page#:~:text=The%20maximum%20amount%20of%20passengers,of%20an%20adult%20passenger%20seated), the maximum number of passengers per car is 4+1 or 5+1 (with a kid younger than 7 years old). And these records need to be excluded in the further calculation when the passenger number is a dimension."
   ]
  },
  {
   "cell_type": "markdown",
   "id": "366199fd-22de-4545-9807-14a1785c413b",
   "metadata": {},
   "source": [
    "# Data cleansing"
   ]
  },
  {
   "cell_type": "markdown",
   "id": "43e7995d-29bd-4787-a6ea-48234b7f63de",
   "metadata": {},
   "source": [
    "## Exclude the rows with outliers for the payment amount related"
   ]
  },
  {
   "cell_type": "code",
   "execution_count": 6,
   "id": "94f42577-c19f-4358-ae44-0856fca68c49",
   "metadata": {},
   "outputs": [],
   "source": [
    "# List all the attributes to drop\n",
    "att_to_drop=['store_and_fwd_flag','RatecodeID','extra','mta_tax','tolls_amount','improvement_surcharge','congestion_surcharge','airport_fee']\n",
    "\n",
    "# drop the attributes with for loop\n",
    "for a in att_to_drop:\n",
    "    taxi=taxi.drop(a)"
   ]
  },
  {
   "cell_type": "code",
   "execution_count": 7,
   "id": "ee44c6a7-19f8-440c-9688-5a42e7f64551",
   "metadata": {},
   "outputs": [
    {
     "data": {
      "image/png": "[encoded data removed]",
      "text/plain": [
       "<Figure size 432x288 with 1 Axes>"
      ]
     },
     "metadata": {
      "needs_background": "light"
     },
     "output_type": "display_data"
    }
   ],
   "source": [
    "# plot with vaex to find outliers of total_amount\n",
    "taxi.plot1d(taxi.total_amount, shape=200, limits=[-1000, 1000])"
   ]
  },
  {
   "cell_type": "code",
   "execution_count": 8,
   "id": "ec225aa0-3578-4964-8010-0a62ac49268f",
   "metadata": {},
   "outputs": [],
   "source": [
    "# From the plot, keep 0 to 1000 as \"not outlier\" range\n",
    "taxi=taxi[(taxi.total_amount>0)&(taxi.total_amount<1000)]"
   ]
  },
  {
   "cell_type": "markdown",
   "id": "b6b0f318-2b0d-4ce8-aa53-8c86212f58f6",
   "metadata": {},
   "source": [
    "After \"total_amount\" excludes the outliers, the \"fare amount\" is to be cleansed."
   ]
  },
  {
   "cell_type": "code",
   "execution_count": 9,
   "id": "17e5ad80-05be-44d0-9e2e-b1cedd17a141",
   "metadata": {},
   "outputs": [
    {
     "data": {
      "image/png": "[encoded data removed]",
      "text/plain": [
       "<Figure size 432x288 with 1 Axes>"
      ]
     },
     "metadata": {
      "needs_background": "light"
     },
     "output_type": "display_data"
    }
   ],
   "source": [
    "# Cleanse \"fare_amount\" outliers\n",
    "# plot with vaex to find outliers of fare_amount\n",
    "taxi.plot1d(taxi.fare_amount, shape=200, limits=[-10, 1000])"
   ]
  },
  {
   "cell_type": "code",
   "execution_count": 10,
   "id": "8ed60d56-fce9-4513-85c0-e25cb38cb379",
   "metadata": {},
   "outputs": [],
   "source": [
    "\n",
    "# From the plot, keep 0 to 1000 as \"not outlier\" range\n",
    "\n",
    "taxi=taxi[(taxi.fare_amount>0)&(taxi.fare_amount<1000)]"
   ]
  },
  {
   "cell_type": "code",
   "execution_count": 11,
   "id": "b44e31ae-f9c9-449b-b926-cf9b429a68b4",
   "metadata": {},
   "outputs": [
    {
     "data": {
      "image/png": "[encoded data removed]",
      "text/plain": [
       "<Figure size 432x288 with 1 Axes>"
      ]
     },
     "metadata": {
      "needs_background": "light"
     },
     "output_type": "display_data"
    }
   ],
   "source": [
    "# Clean \"tip_amount\" outliers\n",
    "# plot with vaex to find outliers of tip_amount\n",
    "taxi.plot1d(taxi.tip_amount, shape=200, limits=[-100, 1000])\n",
    "\n",
    "# From the plot, keep 0 to 1000 as \"not outlier\" range\n",
    "\n",
    "taxi=taxi[(taxi.tip_amount>0)&(taxi.tip_amount<1000)]"
   ]
  },
  {
   "cell_type": "code",
   "execution_count": 12,
   "id": "71921c0d-b567-4030-af2d-57f08d3c14d6",
   "metadata": {},
   "outputs": [],
   "source": [
    "taxi=taxi.copy()"
   ]
  },
  {
   "cell_type": "code",
   "execution_count": 13,
   "id": "7cfb0610-c665-4a3e-9cff-85b083307215",
   "metadata": {},
   "outputs": [
    {
     "data": {
      "image/png": "[encoded data removed]",
      "text/plain": [
       "<Figure size 432x288 with 1 Axes>"
      ]
     },
     "metadata": {
      "needs_background": "light"
     },
     "output_type": "display_data"
    }
   ],
   "source": [
    "# \"trip_distance\" column to cleanse up\n",
    "\n",
    "\n",
    "# plot with vaex to find outliers \n",
    "taxi.plot1d(taxi.trip_distance, shape=200, limits=[0, 1000])\n",
    "\n",
    "# From the plot, keep \"not outlier\" range\n",
    "\n",
    "taxi=taxi[(taxi.trip_distance>0)&(taxi.trip_distance<1000)]"
   ]
  },
  {
   "cell_type": "code",
   "execution_count": 14,
   "id": "fdc263c3-71e0-4375-bb19-1e80357c72ca",
   "metadata": {},
   "outputs": [],
   "source": [
    "# Join the \"taxi\" DF with \"drop_date\" DF\n",
    "# Convert taxi vaex dataframe to pandas by keeping only relevant attributes\n",
    "# First copy a \"taxi\" df\n",
    "taxi_new=taxi.copy()"
   ]
  },
  {
   "cell_type": "code",
   "execution_count": 15,
   "id": "b0cec0f1-fad7-455e-bba2-8388793ea422",
   "metadata": {},
   "outputs": [],
   "source": [
    "# Save taxi_new to pd df\n",
    "taxi_pd=taxi_new.to_pandas_df()"
   ]
  },
  {
   "cell_type": "code",
   "execution_count": 16,
   "id": "1977ef11-c338-420e-aacc-20d7b13835cb",
   "metadata": {},
   "outputs": [],
   "source": [
    "# Extract year, month,weekday name of the 'dropdate'\n",
    "taxi_pd['year'] = taxi_pd['tpep_pickup_datetime'].dt.year\n",
    "taxi_pd['month'] = taxi_pd['tpep_pickup_datetime'].dt.month\n",
    "taxi_pd['weekday'] = taxi_pd['tpep_pickup_datetime'].dt.dayofweek\n",
    "# Extract the hour of the 'dropdate'\n",
    "taxi_pd['hour'] = taxi_pd['tpep_pickup_datetime'].dt.hour\n"
   ]
  },
  {
   "cell_type": "code",
   "execution_count": 17,
   "id": "292e8733-5cb9-4441-b477-6c583088d81e",
   "metadata": {},
   "outputs": [],
   "source": [
    "# Convert \"trip duration\" to min\n",
    "taxi_pd['duration_min']  = taxi_pd['trip_duration'] / pd.Timedelta(minutes=1)"
   ]
  },
  {
   "cell_type": "code",
   "execution_count": 18,
   "id": "7b09aa28-1cd9-4a18-b538-354a729a4b3f",
   "metadata": {},
   "outputs": [],
   "source": [
    "# Convert pd df to vaex df\n",
    "taxi_up = vaex.from_pandas(df=taxi_pd, copy_index=False)"
   ]
  },
  {
   "cell_type": "code",
   "execution_count": 19,
   "id": "bed45b76-a233-40c2-9fd9-7a9a3c6fbb39",
   "metadata": {},
   "outputs": [
    {
     "data": {
      "text/html": [
       "<table>\n",
       "<thead>\n",
       "<tr><th>#                            </th><th style=\"text-align: right;\">  VendorID</th><th>tpep_pickup_datetime         </th><th>tpep_dropoff_datetime        </th><th style=\"text-align: right;\">  passenger_count</th><th style=\"text-align: right;\">  trip_distance</th><th style=\"text-align: right;\">  PULocationID</th><th style=\"text-align: right;\">  DOLocationID</th><th style=\"text-align: right;\">  payment_type</th><th style=\"text-align: right;\">  fare_amount</th><th style=\"text-align: right;\">  tip_amount</th><th style=\"text-align: right;\">  total_amount</th><th>trip_duration  </th><th style=\"text-align: right;\">  year</th><th style=\"text-align: right;\">  month</th><th style=\"text-align: right;\">  weekday</th><th style=\"text-align: right;\">  hour</th><th style=\"text-align: right;\">  duration_min</th></tr>\n",
       "</thead>\n",
       "<tbody>\n",
       "<tr><td><i style='opacity: 0.6'>0</i></td><td style=\"text-align: right;\">         2</td><td>2020-12-31 23:12:48.000000000</td><td>2020-12-31 23:24:51.000000000</td><td style=\"text-align: right;\">              nan</td><td style=\"text-align: right;\">           2.35</td><td style=\"text-align: right;\">            18</td><td style=\"text-align: right;\">           235</td><td style=\"text-align: right;\">             0</td><td style=\"text-align: right;\">        17.09</td><td style=\"text-align: right;\">        2.75</td><td style=\"text-align: right;\">         20.64</td><td>0 days +0:12:03</td><td style=\"text-align: right;\">  2020</td><td style=\"text-align: right;\">     12</td><td style=\"text-align: right;\">        3</td><td style=\"text-align: right;\">    23</td><td style=\"text-align: right;\">         12.05</td></tr>\n",
       "</tbody>\n",
       "</table>"
      ],
      "text/plain": [
       "  #    VendorID  tpep_pickup_datetime           tpep_dropoff_datetime            passenger_count    trip_distance    PULocationID    DOLocationID    payment_type    fare_amount    tip_amount    total_amount  trip_duration      year    month    weekday    hour    duration_min\n",
       "  0           2  2020-12-31 23:12:48.000000000  2020-12-31 23:24:51.000000000                nan             2.35              18             235               0          17.09          2.75           20.64  0 days +0:12:03    2020       12          3      23           12.05"
      ]
     },
     "execution_count": 19,
     "metadata": {},
     "output_type": "execute_result"
    }
   ],
   "source": [
    "taxi_up.tail(1)"
   ]
  },
  {
   "cell_type": "code",
   "execution_count": 20,
   "id": "96bcf566-41d1-49d9-a062-6b602e9fe3cb",
   "metadata": {},
   "outputs": [],
   "source": [
    "taxi_up2=taxi_up.copy()"
   ]
  },
  {
   "cell_type": "code",
   "execution_count": 21,
   "id": "7f5a70af-8925-4ccd-95e5-60b8f8e7b622",
   "metadata": {},
   "outputs": [],
   "source": [
    "# Find the wrong year values\n",
    "taxi_up2=taxi_up2[(taxi_up2['year']>=2018)]"
   ]
  },
  {
   "cell_type": "code",
   "execution_count": 22,
   "id": "b7c15480-d911-40ea-845d-63c88d576dfc",
   "metadata": {},
   "outputs": [],
   "source": [
    "taxi_up2=taxi_up2[(taxi_up2['year']<=2020)]"
   ]
  },
  {
   "cell_type": "code",
   "execution_count": 23,
   "id": "802bf9e4-1e3e-4453-92c5-5245180c46d8",
   "metadata": {},
   "outputs": [
    {
     "data": {
      "text/html": [
       "<table>\n",
       "<thead>\n",
       "<tr><th>#                            </th><th style=\"text-align: right;\">  VendorID</th><th>tpep_pickup_datetime         </th><th>tpep_dropoff_datetime        </th><th style=\"text-align: right;\">  passenger_count</th><th style=\"text-align: right;\">  trip_distance</th><th style=\"text-align: right;\">  PULocationID</th><th style=\"text-align: right;\">  DOLocationID</th><th style=\"text-align: right;\">  payment_type</th><th style=\"text-align: right;\">  fare_amount</th><th style=\"text-align: right;\">  tip_amount</th><th style=\"text-align: right;\">  total_amount</th><th>trip_duration  </th><th style=\"text-align: right;\">  year</th><th style=\"text-align: right;\">  month</th><th style=\"text-align: right;\">  weekday</th><th style=\"text-align: right;\">  hour</th><th style=\"text-align: right;\">  duration_min</th></tr>\n",
       "</thead>\n",
       "<tbody>\n",
       "<tr><td><i style='opacity: 0.6'>0</i></td><td style=\"text-align: right;\">         2</td><td>2020-12-31 23:12:48.000000000</td><td>2020-12-31 23:24:51.000000000</td><td style=\"text-align: right;\">              nan</td><td style=\"text-align: right;\">           2.35</td><td style=\"text-align: right;\">            18</td><td style=\"text-align: right;\">           235</td><td style=\"text-align: right;\">             0</td><td style=\"text-align: right;\">        17.09</td><td style=\"text-align: right;\">        2.75</td><td style=\"text-align: right;\">         20.64</td><td>0 days +0:12:03</td><td style=\"text-align: right;\">  2020</td><td style=\"text-align: right;\">     12</td><td style=\"text-align: right;\">        3</td><td style=\"text-align: right;\">    23</td><td style=\"text-align: right;\">         12.05</td></tr>\n",
       "</tbody>\n",
       "</table>"
      ],
      "text/plain": [
       "  #    VendorID  tpep_pickup_datetime           tpep_dropoff_datetime            passenger_count    trip_distance    PULocationID    DOLocationID    payment_type    fare_amount    tip_amount    total_amount  trip_duration      year    month    weekday    hour    duration_min\n",
       "  0           2  2020-12-31 23:12:48.000000000  2020-12-31 23:24:51.000000000                nan             2.35              18             235               0          17.09          2.75           20.64  0 days +0:12:03    2020       12          3      23           12.05"
      ]
     },
     "execution_count": 23,
     "metadata": {},
     "output_type": "execute_result"
    }
   ],
   "source": [
    "taxi_up2.tail(1)"
   ]
  },
  {
   "cell_type": "code",
   "execution_count": 24,
   "id": "d480be2d-ba13-4f94-abcb-92e405823a4f",
   "metadata": {},
   "outputs": [],
   "source": [
    "taxi_up3=taxi_up2.copy()"
   ]
  },
  {
   "cell_type": "code",
   "execution_count": 25,
   "id": "d372cdf7-d806-4b59-b82d-72f25fd3bb76",
   "metadata": {},
   "outputs": [
    {
     "data": {
      "text/html": [
       "<table>\n",
       "<thead>\n",
       "<tr><th>#                            </th><th style=\"text-align: right;\">  VendorID</th><th>tpep_pickup_datetime         </th><th>tpep_dropoff_datetime        </th><th style=\"text-align: right;\">  passenger_count</th><th style=\"text-align: right;\">  trip_distance</th><th style=\"text-align: right;\">  PULocationID</th><th style=\"text-align: right;\">  DOLocationID</th><th style=\"text-align: right;\">  payment_type</th><th style=\"text-align: right;\">  fare_amount</th><th style=\"text-align: right;\">  tip_amount</th><th style=\"text-align: right;\">  total_amount</th><th>trip_duration  </th><th style=\"text-align: right;\">  year</th><th style=\"text-align: right;\">  month</th><th style=\"text-align: right;\">  weekday</th><th style=\"text-align: right;\">  hour</th><th style=\"text-align: right;\">  duration_min</th></tr>\n",
       "</thead>\n",
       "<tbody>\n",
       "<tr><td><i style='opacity: 0.6'>0</i></td><td style=\"text-align: right;\">         2</td><td>2020-12-31 23:12:48.000000000</td><td>2020-12-31 23:24:51.000000000</td><td style=\"text-align: right;\">              nan</td><td style=\"text-align: right;\">           2.35</td><td style=\"text-align: right;\">            18</td><td style=\"text-align: right;\">           235</td><td style=\"text-align: right;\">             0</td><td style=\"text-align: right;\">        17.09</td><td style=\"text-align: right;\">        2.75</td><td style=\"text-align: right;\">         20.64</td><td>0 days +0:12:03</td><td style=\"text-align: right;\">  2020</td><td style=\"text-align: right;\">     12</td><td style=\"text-align: right;\">        3</td><td style=\"text-align: right;\">    23</td><td style=\"text-align: right;\">         12.05</td></tr>\n",
       "</tbody>\n",
       "</table>"
      ],
      "text/plain": [
       "  #    VendorID  tpep_pickup_datetime           tpep_dropoff_datetime            passenger_count    trip_distance    PULocationID    DOLocationID    payment_type    fare_amount    tip_amount    total_amount  trip_duration      year    month    weekday    hour    duration_min\n",
       "  0           2  2020-12-31 23:12:48.000000000  2020-12-31 23:24:51.000000000                nan             2.35              18             235               0          17.09          2.75           20.64  0 days +0:12:03    2020       12          3      23           12.05"
      ]
     },
     "execution_count": 25,
     "metadata": {},
     "output_type": "execute_result"
    }
   ],
   "source": [
    "taxi_up3.tail(1)"
   ]
  },
  {
   "cell_type": "code",
   "execution_count": 26,
   "id": "6015f5f2-f8d3-4688-8f3c-a15817e60072",
   "metadata": {},
   "outputs": [],
   "source": [
    "# only keep trip duration >0 min and <60*24 min\n",
    "\n",
    "taxi_up4=taxi_up3[(taxi_up3['duration_min']>0)&(taxi_up3['duration_min']<60*24)]"
   ]
  },
  {
   "cell_type": "code",
   "execution_count": 27,
   "id": "46c2a97b-ce86-41d1-a58c-336fb3136e87",
   "metadata": {},
   "outputs": [
    {
     "data": {
      "text/html": [
       "<table>\n",
       "<thead>\n",
       "<tr><th>#                            </th><th style=\"text-align: right;\">  VendorID</th><th>tpep_pickup_datetime         </th><th>tpep_dropoff_datetime        </th><th style=\"text-align: right;\">  passenger_count</th><th style=\"text-align: right;\">  trip_distance</th><th style=\"text-align: right;\">  PULocationID</th><th style=\"text-align: right;\">  DOLocationID</th><th style=\"text-align: right;\">  payment_type</th><th style=\"text-align: right;\">  fare_amount</th><th style=\"text-align: right;\">  tip_amount</th><th style=\"text-align: right;\">  total_amount</th><th>trip_duration  </th><th style=\"text-align: right;\">  year</th><th style=\"text-align: right;\">  month</th><th style=\"text-align: right;\">  weekday</th><th style=\"text-align: right;\">  hour</th><th style=\"text-align: right;\">  duration_min</th></tr>\n",
       "</thead>\n",
       "<tbody>\n",
       "<tr><td><i style='opacity: 0.6'>0</i></td><td style=\"text-align: right;\">         2</td><td>2020-12-31 23:12:48.000000000</td><td>2020-12-31 23:24:51.000000000</td><td style=\"text-align: right;\">              nan</td><td style=\"text-align: right;\">           2.35</td><td style=\"text-align: right;\">            18</td><td style=\"text-align: right;\">           235</td><td style=\"text-align: right;\">             0</td><td style=\"text-align: right;\">        17.09</td><td style=\"text-align: right;\">        2.75</td><td style=\"text-align: right;\">         20.64</td><td>0 days +0:12:03</td><td style=\"text-align: right;\">  2020</td><td style=\"text-align: right;\">     12</td><td style=\"text-align: right;\">        3</td><td style=\"text-align: right;\">    23</td><td style=\"text-align: right;\">         12.05</td></tr>\n",
       "</tbody>\n",
       "</table>"
      ],
      "text/plain": [
       "  #    VendorID  tpep_pickup_datetime           tpep_dropoff_datetime            passenger_count    trip_distance    PULocationID    DOLocationID    payment_type    fare_amount    tip_amount    total_amount  trip_duration      year    month    weekday    hour    duration_min\n",
       "  0           2  2020-12-31 23:12:48.000000000  2020-12-31 23:24:51.000000000                nan             2.35              18             235               0          17.09          2.75           20.64  0 days +0:12:03    2020       12          3      23           12.05"
      ]
     },
     "execution_count": 27,
     "metadata": {},
     "output_type": "execute_result"
    }
   ],
   "source": [
    "taxi_up4.tail(1)"
   ]
  },
  {
   "cell_type": "code",
   "execution_count": 28,
   "id": "92e37336-c026-4b82-9bbd-6518616d41d9",
   "metadata": {},
   "outputs": [],
   "source": [
    "# Add a column to calculate the \"fare_amount per mile\" in order to filter out the outliers\n",
    "taxi_up4['fare_mile']=taxi_up4['fare_amount']/taxi_up4['trip_distance']"
   ]
  },
  {
   "cell_type": "code",
   "execution_count": 29,
   "id": "125aa300-8241-4b9c-b773-1915308c855b",
   "metadata": {},
   "outputs": [
    {
     "data": {
      "image/png": "[encoded data removed]",
      "text/plain": [
       "<Figure size 432x288 with 1 Axes>"
      ]
     },
     "metadata": {
      "needs_background": "light"
     },
     "output_type": "display_data"
    }
   ],
   "source": [
    "# Plot the \"fare_mile\"\n",
    "taxi_up4.plot1d(taxi_up4.fare_mile, shape=200, limits=[-100, 100])"
   ]
  },
  {
   "cell_type": "markdown",
   "id": "fb7de774-c5c3-49e7-ab08-89b053c53047",
   "metadata": {},
   "source": [
    "Filter out to keep \"fare_amount\" between 0 and 10 (with reference to standard [fare price](\"https://www.nyc.gov/site/tlc/passengers/taxi-fare.page\")\n"
   ]
  },
  {
   "cell_type": "code",
   "execution_count": 30,
   "id": "44331001-c4ad-43c1-8525-65c37baba54c",
   "metadata": {},
   "outputs": [],
   "source": [
    "taxi_up5=taxi_up4[(taxi_up4['fare_mile']>0)&(taxi_up4['fare_mile']<10)]"
   ]
  },
  {
   "cell_type": "code",
   "execution_count": 31,
   "id": "aad43b2a-7370-4d2f-95d7-f017a8f5a37c",
   "metadata": {},
   "outputs": [],
   "source": [
    "# Exclude \"na\" \"passenger_count\" - as only \"passenger_count\" has \"na\", can dropna in the dataframe\n",
    "taxi_up6=taxi_up5.dropna()"
   ]
  },
  {
   "cell_type": "code",
   "execution_count": 32,
   "id": "ae11681f-ee05-4797-85f4-3b16b4fd9e02",
   "metadata": {},
   "outputs": [],
   "source": [
    "# Exclude the outliers in the \"passenger_count\" - maximum is 6\n",
    "taxi_up7=taxi_up6[taxi_up6['passenger_count']<=6]"
   ]
  },
  {
   "cell_type": "code",
   "execution_count": 33,
   "id": "514a3396-b0ab-4417-9d92-dd843d4c06a6",
   "metadata": {},
   "outputs": [
    {
     "data": {
      "text/html": [
       "<div>\n",
       "<style scoped>\n",
       "    .dataframe tbody tr th:only-of-type {\n",
       "        vertical-align: middle;\n",
       "    }\n",
       "\n",
       "    .dataframe tbody tr th {\n",
       "        vertical-align: top;\n",
       "    }\n",
       "\n",
       "    .dataframe thead th {\n",
       "        text-align: right;\n",
       "    }\n",
       "</style>\n",
       "<table border=\"1\" class=\"dataframe\">\n",
       "  <thead>\n",
       "    <tr style=\"text-align: right;\">\n",
       "      <th></th>\n",
       "      <th>VendorID</th>\n",
       "      <th>tpep_pickup_datetime</th>\n",
       "      <th>tpep_dropoff_datetime</th>\n",
       "      <th>passenger_count</th>\n",
       "      <th>trip_distance</th>\n",
       "      <th>PULocationID</th>\n",
       "      <th>DOLocationID</th>\n",
       "      <th>payment_type</th>\n",
       "      <th>fare_amount</th>\n",
       "      <th>tip_amount</th>\n",
       "      <th>total_amount</th>\n",
       "      <th>trip_duration</th>\n",
       "      <th>year</th>\n",
       "      <th>month</th>\n",
       "      <th>weekday</th>\n",
       "      <th>hour</th>\n",
       "      <th>duration_min</th>\n",
       "      <th>fare_mile</th>\n",
       "    </tr>\n",
       "  </thead>\n",
       "  <tbody>\n",
       "    <tr>\n",
       "      <th>data_type</th>\n",
       "      <td>int64</td>\n",
       "      <td>datetime64[ns]</td>\n",
       "      <td>datetime64[ns]</td>\n",
       "      <td>float64</td>\n",
       "      <td>float64</td>\n",
       "      <td>int64</td>\n",
       "      <td>int64</td>\n",
       "      <td>int64</td>\n",
       "      <td>float64</td>\n",
       "      <td>float64</td>\n",
       "      <td>float64</td>\n",
       "      <td>timedelta64[ns]</td>\n",
       "      <td>int64</td>\n",
       "      <td>int64</td>\n",
       "      <td>int64</td>\n",
       "      <td>int64</td>\n",
       "      <td>float64</td>\n",
       "      <td>float64</td>\n",
       "    </tr>\n",
       "    <tr>\n",
       "      <th>count</th>\n",
       "      <td>79473513</td>\n",
       "      <td>79473513</td>\n",
       "      <td>79473513</td>\n",
       "      <td>79473513</td>\n",
       "      <td>79473513</td>\n",
       "      <td>79473513</td>\n",
       "      <td>79473513</td>\n",
       "      <td>79473513</td>\n",
       "      <td>79473513</td>\n",
       "      <td>79473513</td>\n",
       "      <td>79473513</td>\n",
       "      <td>79473513</td>\n",
       "      <td>79473513</td>\n",
       "      <td>79473513</td>\n",
       "      <td>79473513</td>\n",
       "      <td>79473513</td>\n",
       "      <td>79473513</td>\n",
       "      <td>79473513</td>\n",
       "    </tr>\n",
       "    <tr>\n",
       "      <th>NA</th>\n",
       "      <td>0</td>\n",
       "      <td>0</td>\n",
       "      <td>0</td>\n",
       "      <td>0</td>\n",
       "      <td>0</td>\n",
       "      <td>0</td>\n",
       "      <td>0</td>\n",
       "      <td>0</td>\n",
       "      <td>0</td>\n",
       "      <td>0</td>\n",
       "      <td>0</td>\n",
       "      <td>0</td>\n",
       "      <td>0</td>\n",
       "      <td>0</td>\n",
       "      <td>0</td>\n",
       "      <td>0</td>\n",
       "      <td>0</td>\n",
       "      <td>0</td>\n",
       "    </tr>\n",
       "    <tr>\n",
       "      <th>mean</th>\n",
       "      <td>1.6097355354103953</td>\n",
       "      <td>1970-01-01T00:01:19.469442844</td>\n",
       "      <td>1970-01-01T00:02:47.793596593</td>\n",
       "      <td>1.5615417050961369</td>\n",
       "      <td>3.110277389274291</td>\n",
       "      <td>164.54482880352853</td>\n",
       "      <td>162.72637788139554</td>\n",
       "      <td>1.0000439769159317</td>\n",
       "      <td>13.183621985100876</td>\n",
       "      <td>2.8928626020293313</td>\n",
       "      <td>18.076564788728263</td>\n",
       "      <td>88324153748 nanoseconds</td>\n",
       "      <td>2018.4030253576434</td>\n",
       "      <td>5.924481355190628</td>\n",
       "      <td>2.9552424214593356</td>\n",
       "      <td>13.96652100933301</td>\n",
       "      <td>16.946192516576616</td>\n",
       "      <td>5.463332858660661</td>\n",
       "    </tr>\n",
       "    <tr>\n",
       "      <th>std</th>\n",
       "      <td>0.509891</td>\n",
       "      <td>25010793449633328.0</td>\n",
       "      <td>25010754072668872.0</td>\n",
       "      <td>1.215507</td>\n",
       "      <td>3.779337</td>\n",
       "      <td>65.918385</td>\n",
       "      <td>70.289579</td>\n",
       "      <td>0.009196</td>\n",
       "      <td>10.947691</td>\n",
       "      <td>2.639747</td>\n",
       "      <td>14.316962</td>\n",
       "      <td>3513097830548.308105</td>\n",
       "      <td>0.802259</td>\n",
       "      <td>3.622505</td>\n",
       "      <td>1.935087</td>\n",
       "      <td>6.106334</td>\n",
       "      <td>58.551631</td>\n",
       "      <td>1.638945</td>\n",
       "    </tr>\n",
       "    <tr>\n",
       "      <th>min</th>\n",
       "      <td>1</td>\n",
       "      <td>2018-01-01T00:01:11.432929280</td>\n",
       "      <td>2018-01-01T00:03:28.871882752</td>\n",
       "      <td>0.0</td>\n",
       "      <td>0.02</td>\n",
       "      <td>1</td>\n",
       "      <td>1</td>\n",
       "      <td>1</td>\n",
       "      <td>0.01</td>\n",
       "      <td>0.01</td>\n",
       "      <td>0.36</td>\n",
       "      <td>1000000000 nanoseconds</td>\n",
       "      <td>2018</td>\n",
       "      <td>1</td>\n",
       "      <td>0</td>\n",
       "      <td>0</td>\n",
       "      <td>0.016667</td>\n",
       "      <td>0.000193</td>\n",
       "    </tr>\n",
       "    <tr>\n",
       "      <th>max</th>\n",
       "      <td>4</td>\n",
       "      <td>2021-01-01T00:00:10.863509504</td>\n",
       "      <td>2021-01-01T23:08:18.869313536</td>\n",
       "      <td>6.0</td>\n",
       "      <td>932.9</td>\n",
       "      <td>265</td>\n",
       "      <td>265</td>\n",
       "      <td>4</td>\n",
       "      <td>820.5</td>\n",
       "      <td>945.97</td>\n",
       "      <td>996.1</td>\n",
       "      <td>86398996578304 nanoseconds</td>\n",
       "      <td>2020</td>\n",
       "      <td>12</td>\n",
       "      <td>6</td>\n",
       "      <td>23</td>\n",
       "      <td>1439.983333</td>\n",
       "      <td>9.999091</td>\n",
       "    </tr>\n",
       "  </tbody>\n",
       "</table>\n",
       "</div>"
      ],
      "text/plain": [
       "                     VendorID           tpep_pickup_datetime  \\\n",
       "data_type               int64                 datetime64[ns]   \n",
       "count                79473513                       79473513   \n",
       "NA                          0                              0   \n",
       "mean       1.6097355354103953  1970-01-01T00:01:19.469442844   \n",
       "std                  0.509891            25010793449633328.0   \n",
       "min                         1  2018-01-01T00:01:11.432929280   \n",
       "max                         4  2021-01-01T00:00:10.863509504   \n",
       "\n",
       "                   tpep_dropoff_datetime     passenger_count  \\\n",
       "data_type                 datetime64[ns]             float64   \n",
       "count                           79473513            79473513   \n",
       "NA                                     0                   0   \n",
       "mean       1970-01-01T00:02:47.793596593  1.5615417050961369   \n",
       "std                  25010754072668872.0            1.215507   \n",
       "min        2018-01-01T00:03:28.871882752                 0.0   \n",
       "max        2021-01-01T23:08:18.869313536                 6.0   \n",
       "\n",
       "               trip_distance        PULocationID        DOLocationID  \\\n",
       "data_type            float64               int64               int64   \n",
       "count               79473513            79473513            79473513   \n",
       "NA                         0                   0                   0   \n",
       "mean       3.110277389274291  164.54482880352853  162.72637788139554   \n",
       "std                 3.779337           65.918385           70.289579   \n",
       "min                     0.02                   1                   1   \n",
       "max                    932.9                 265                 265   \n",
       "\n",
       "                 payment_type         fare_amount          tip_amount  \\\n",
       "data_type               int64             float64             float64   \n",
       "count                79473513            79473513            79473513   \n",
       "NA                          0                   0                   0   \n",
       "mean       1.0000439769159317  13.183621985100876  2.8928626020293313   \n",
       "std                  0.009196           10.947691            2.639747   \n",
       "min                         1                0.01                0.01   \n",
       "max                         4               820.5              945.97   \n",
       "\n",
       "                 total_amount               trip_duration                year  \\\n",
       "data_type             float64             timedelta64[ns]               int64   \n",
       "count                79473513                    79473513            79473513   \n",
       "NA                          0                           0                   0   \n",
       "mean       18.076564788728263     88324153748 nanoseconds  2018.4030253576434   \n",
       "std                 14.316962        3513097830548.308105            0.802259   \n",
       "min                      0.36      1000000000 nanoseconds                2018   \n",
       "max                     996.1  86398996578304 nanoseconds                2020   \n",
       "\n",
       "                       month             weekday               hour  \\\n",
       "data_type              int64               int64              int64   \n",
       "count               79473513            79473513           79473513   \n",
       "NA                         0                   0                  0   \n",
       "mean       5.924481355190628  2.9552424214593356  13.96652100933301   \n",
       "std                 3.622505            1.935087           6.106334   \n",
       "min                        1                   0                  0   \n",
       "max                       12                   6                 23   \n",
       "\n",
       "                 duration_min          fare_mile  \n",
       "data_type             float64            float64  \n",
       "count                79473513           79473513  \n",
       "NA                          0                  0  \n",
       "mean       16.946192516576616  5.463332858660661  \n",
       "std                 58.551631           1.638945  \n",
       "min                  0.016667           0.000193  \n",
       "max               1439.983333           9.999091  "
      ]
     },
     "execution_count": 33,
     "metadata": {},
     "output_type": "execute_result"
    }
   ],
   "source": [
    "taxi_up7.describe()"
   ]
  },
  {
   "cell_type": "code",
   "execution_count": 34,
   "id": "48f45b93-2030-4e3c-ab36-839ed155cb55",
   "metadata": {},
   "outputs": [
    {
     "data": {
      "text/html": [
       "<table>\n",
       "<thead>\n",
       "<tr><th>#                            </th><th style=\"text-align: right;\">  VendorID</th><th>tpep_pickup_datetime         </th><th>tpep_dropoff_datetime        </th><th style=\"text-align: right;\">  passenger_count</th><th style=\"text-align: right;\">  trip_distance</th><th style=\"text-align: right;\">  PULocationID</th><th style=\"text-align: right;\">  DOLocationID</th><th style=\"text-align: right;\">  payment_type</th><th style=\"text-align: right;\">  fare_amount</th><th style=\"text-align: right;\">  tip_amount</th><th style=\"text-align: right;\">  total_amount</th><th>trip_duration  </th><th style=\"text-align: right;\">  year</th><th style=\"text-align: right;\">  month</th><th style=\"text-align: right;\">  weekday</th><th style=\"text-align: right;\">  hour</th><th style=\"text-align: right;\">  duration_min</th><th style=\"text-align: right;\">  fare_mile</th></tr>\n",
       "</thead>\n",
       "<tbody>\n",
       "<tr><td><i style='opacity: 0.6'>0</i></td><td style=\"text-align: right;\">         2</td><td>2020-12-31 23:54:57.000000000</td><td>2020-12-31 23:57:39.000000000</td><td style=\"text-align: right;\">                1</td><td style=\"text-align: right;\">           0.59</td><td style=\"text-align: right;\">           238</td><td style=\"text-align: right;\">           239</td><td style=\"text-align: right;\">             1</td><td style=\"text-align: right;\">          4.5</td><td style=\"text-align: right;\">        2.08</td><td style=\"text-align: right;\">         10.38</td><td>0 days +0:02:42</td><td style=\"text-align: right;\">  2020</td><td style=\"text-align: right;\">     12</td><td style=\"text-align: right;\">        3</td><td style=\"text-align: right;\">    23</td><td style=\"text-align: right;\">           2.7</td><td style=\"text-align: right;\">    7.62712</td></tr>\n",
       "</tbody>\n",
       "</table>"
      ],
      "text/plain": [
       "  #    VendorID  tpep_pickup_datetime           tpep_dropoff_datetime            passenger_count    trip_distance    PULocationID    DOLocationID    payment_type    fare_amount    tip_amount    total_amount  trip_duration      year    month    weekday    hour    duration_min    fare_mile\n",
       "  0           2  2020-12-31 23:54:57.000000000  2020-12-31 23:57:39.000000000                  1             0.59             238             239               1            4.5          2.08           10.38  0 days +0:02:42    2020       12          3      23             2.7      7.62712"
      ]
     },
     "execution_count": 34,
     "metadata": {},
     "output_type": "execute_result"
    }
   ],
   "source": [
    "taxi_up7.tail(1)"
   ]
  },
  {
   "cell_type": "code",
   "execution_count": 35,
   "id": "9e75229f-f8a9-4c79-a1d2-394591f20564",
   "metadata": {},
   "outputs": [],
   "source": [
    "# rename the dataset to \"taxi_all\"\n",
    "taxi_all=taxi_up7"
   ]
  },
  {
   "cell_type": "markdown",
   "id": "221e62a6-356f-4ae7-846c-e17e222b4990",
   "metadata": {
    "tags": []
   },
   "source": [
    "# Data wrangling\n",
    "## Import ArcMap file of the taxi zones"
   ]
  },
  {
   "cell_type": "code",
   "execution_count": 36,
   "id": "4eae2c6b-f769-43e1-850b-51062160f444",
   "metadata": {},
   "outputs": [],
   "source": [
    "from simpledbf import Dbf5"
   ]
  },
  {
   "cell_type": "code",
   "execution_count": 37,
   "id": "2efd68e9-56c8-46a7-97b2-f89fb6e0eae3",
   "metadata": {},
   "outputs": [],
   "source": [
    "import geopandas as gpd\n",
    "zone=gpd.read_file('/Users/silviawu/Downloads/YellowTaxi/taxi_zones/taxi_zones.dbf')"
   ]
  },
  {
   "cell_type": "code",
   "execution_count": 38,
   "id": "e863365f-f1f6-4183-85fa-31cbbd14964c",
   "metadata": {},
   "outputs": [
    {
     "data": {
      "text/plain": [
       "'geometry'"
      ]
     },
     "execution_count": 38,
     "metadata": {},
     "output_type": "execute_result"
    }
   ],
   "source": [
    "zone.geometry.name"
   ]
  },
  {
   "cell_type": "code",
   "execution_count": 39,
   "id": "baa75385-6cb3-40e2-8766-1d91ac3f2a32",
   "metadata": {},
   "outputs": [],
   "source": [
    "# Rename the geometry to \"borders\" \n",
    "\n",
    "zone=zone.rename(columns={'geometry':'borders'}).set_geometry('borders')"
   ]
  },
  {
   "cell_type": "code",
   "execution_count": 40,
   "id": "5ac89bdf-e0b6-4db2-989f-ca9be6842dc8",
   "metadata": {},
   "outputs": [
    {
     "data": {
      "text/plain": [
       "'borders'"
      ]
     },
     "execution_count": 40,
     "metadata": {},
     "output_type": "execute_result"
    }
   ],
   "source": [
    "zone.geometry.name"
   ]
  },
  {
   "cell_type": "code",
   "execution_count": 41,
   "id": "b8170b7d-343f-442b-9912-0c8f335cee66",
   "metadata": {},
   "outputs": [
    {
     "data": {
      "text/plain": [
       "<AxesSubplot:>"
      ]
     },
     "execution_count": 41,
     "metadata": {},
     "output_type": "execute_result"
    },
    {
     "data": {
      "image/png": "[encoded data removed]",
      "text/plain": [
       "<Figure size 432x288 with 1 Axes>"
      ]
     },
     "metadata": {
      "needs_background": "light"
     },
     "output_type": "display_data"
    }
   ],
   "source": [
    "# Create centroilds and make it geometry\n",
    "zone['centroid_column']=zone.centroid\n",
    "zone=zone.set_geometry('centroid_column')\n",
    "zone.plot()"
   ]
  },
  {
   "cell_type": "code",
   "execution_count": 42,
   "id": "bb0b4c0b-20fa-413a-99be-1aadc8298f7c",
   "metadata": {},
   "outputs": [
    {
     "data": {
      "text/html": [
       "<div>\n",
       "<style scoped>\n",
       "    .dataframe tbody tr th:only-of-type {\n",
       "        vertical-align: middle;\n",
       "    }\n",
       "\n",
       "    .dataframe tbody tr th {\n",
       "        vertical-align: top;\n",
       "    }\n",
       "\n",
       "    .dataframe thead th {\n",
       "        text-align: right;\n",
       "    }\n",
       "</style>\n",
       "<table border=\"1\" class=\"dataframe\">\n",
       "  <thead>\n",
       "    <tr style=\"text-align: right;\">\n",
       "      <th></th>\n",
       "      <th>OBJECTID</th>\n",
       "      <th>Shape_Leng</th>\n",
       "      <th>Shape_Area</th>\n",
       "      <th>zone</th>\n",
       "      <th>LocationID</th>\n",
       "      <th>borough</th>\n",
       "      <th>borders</th>\n",
       "      <th>centroid_column</th>\n",
       "    </tr>\n",
       "  </thead>\n",
       "  <tbody>\n",
       "    <tr>\n",
       "      <th>0</th>\n",
       "      <td>1</td>\n",
       "      <td>0.116357</td>\n",
       "      <td>0.000782</td>\n",
       "      <td>Newark Airport</td>\n",
       "      <td>1</td>\n",
       "      <td>EWR</td>\n",
       "      <td>POLYGON ((933100.918 192536.086, 933091.011 19...</td>\n",
       "      <td>POINT (935996.821 191376.750)</td>\n",
       "    </tr>\n",
       "  </tbody>\n",
       "</table>\n",
       "</div>"
      ],
      "text/plain": [
       "   OBJECTID  Shape_Leng  Shape_Area            zone  LocationID borough  \\\n",
       "0         1    0.116357    0.000782  Newark Airport           1     EWR   \n",
       "\n",
       "                                             borders  \\\n",
       "0  POLYGON ((933100.918 192536.086, 933091.011 19...   \n",
       "\n",
       "                 centroid_column  \n",
       "0  POINT (935996.821 191376.750)  "
      ]
     },
     "execution_count": 42,
     "metadata": {},
     "output_type": "execute_result"
    }
   ],
   "source": [
    "zone.head(1)"
   ]
  },
  {
   "cell_type": "code",
   "execution_count": 43,
   "id": "79291f28-9f58-49bb-b4db-987d54bf2c50",
   "metadata": {},
   "outputs": [],
   "source": [
    "# Drop borders \n",
    "zone_updated=zone.drop(['borders'],axis=1)\n",
    "# Save zone df to geojson\n",
    "zone_updated.to_file('/Users/silviawu/Downloads/YellowTaxi/zone.json')"
   ]
  },
  {
   "cell_type": "markdown",
   "id": "5be1980f-aa53-44e7-99a3-0d022416a6ba",
   "metadata": {},
   "source": [
    "## Hypothesis: people take more trips in the winter than in the summer?\n",
    "### H Test: check the # of trips of different months in the year"
   ]
  },
  {
   "cell_type": "code",
   "execution_count": 44,
   "id": "0548f901-eb0e-4f15-94e6-edce7458f398",
   "metadata": {},
   "outputs": [],
   "source": [
    "# Get the average demand per month\n",
    "demand_month=taxi_all.groupby(by='month').agg({'row_nb':'count'})"
   ]
  },
  {
   "cell_type": "code",
   "execution_count": 45,
   "id": "1d1a95df-c064-49c8-a0e2-121b8e0f001e",
   "metadata": {},
   "outputs": [],
   "source": [
    "# Convert Vaex DF to Pandas DF\n",
    "demand_month_pd=demand_month.to_pandas_df()"
   ]
  },
  {
   "cell_type": "code",
   "execution_count": 46,
   "id": "9eee51a3-b914-421c-baae-f1796f305749",
   "metadata": {},
   "outputs": [],
   "source": [
    "import matplotlib.pyplot as plt\n",
    "%matplotlib inline  "
   ]
  },
  {
   "cell_type": "code",
   "execution_count": 47,
   "id": "545671cb-c5d2-432e-bf17-01b353618b76",
   "metadata": {},
   "outputs": [
    {
     "data": {
      "image/png": "[encoded data removed]",
      "text/plain": [
       "<Figure size 720x720 with 1 Axes>"
      ]
     },
     "metadata": {
      "needs_background": "light"
     },
     "output_type": "display_data"
    }
   ],
   "source": [
    "x = demand_month_pd['month']\n",
    "y = demand_month_pd['row_nb']\n",
    "# Figure Size\n",
    "fig = plt.figure(figsize =(10, 10))\n",
    " \n",
    "# Horizontal Bar Plot\n",
    "plt.bar(x[0:24], y[0:24])\n",
    "plt.title('# or orders by month')\n",
    "plt.xlabel('month of year')\n",
    "plt.ylabel('# of orders')\n",
    "\n",
    "# Show Plot\n",
    "plt.show()"
   ]
  },
  {
   "cell_type": "markdown",
   "id": "1923039a-9576-41ee-9731-9557bd245718",
   "metadata": {},
   "source": [
    "From the chart, it is noted that the # of trips on Jan and Feb and March are higher in other months."
   ]
  },
  {
   "cell_type": "markdown",
   "id": "1edc5bf7-e07a-4282-9a11-a0bb2b5768f9",
   "metadata": {},
   "source": [
    "## Hypothesis: people have more demand in the evening?\n",
    "### H Test: check the average demand by the hour of the day"
   ]
  },
  {
   "cell_type": "code",
   "execution_count": 48,
   "id": "6f3806bb-ba87-4027-bfe2-1d2dae718a7a",
   "metadata": {},
   "outputs": [],
   "source": [
    "# Get the average demand per hour\n",
    "demand_hour=taxi_all.groupby(by='hour').agg({'row_nb':'count'})"
   ]
  },
  {
   "cell_type": "code",
   "execution_count": 49,
   "id": "0e8a7f1d-1e8e-42ce-ab7b-69eb01d6f947",
   "metadata": {},
   "outputs": [],
   "source": [
    "# Convert Vaex DF to Pandas DF\n",
    "demand_hour_pd=demand_hour.to_pandas_df()"
   ]
  },
  {
   "cell_type": "code",
   "execution_count": 50,
   "id": "51531d16-0928-4fd2-9c6f-9b748a37fcf1",
   "metadata": {},
   "outputs": [
    {
     "data": {
      "image/png": "[encoded data removed]",
      "text/plain": [
       "<Figure size 720x720 with 1 Axes>"
      ]
     },
     "metadata": {
      "needs_background": "light"
     },
     "output_type": "display_data"
    }
   ],
   "source": [
    "x = demand_hour_pd['hour']\n",
    "y = demand_hour_pd['row_nb']\n",
    "# Figure Size\n",
    "fig = plt.figure(figsize =(10, 10))\n",
    " \n",
    "# Horizontal Bar Plot\n",
    "plt.bar(x[0:24], y[0:24])\n",
    "plt.title('# or orders by hour')\n",
    "plt.xlabel('hour of the day')\n",
    "plt.ylabel('# of orders')\n",
    "\n",
    "# Show Plot\n",
    "plt.show()"
   ]
  },
  {
   "cell_type": "markdown",
   "id": "06c934a9-5b2d-43d4-8f63-99d588b5d2d4",
   "metadata": {},
   "source": [
    "From the chart, it is noted that the demand is highest at 18h, and from 18h to 24h, the demand is higher than during the day. But between 0h and 6h, the demand is much lower than in the day."
   ]
  },
  {
   "cell_type": "markdown",
   "id": "ac0de12f-2102-42d1-9da1-da8021b4b661",
   "metadata": {},
   "source": [
    "## Hypothesis: the demand in the evening has different patterns between workday and weekend\n",
    "### H - Test: check the average demand by hour of each day of the week"
   ]
  },
  {
   "cell_type": "code",
   "execution_count": 51,
   "id": "7e27d405-fb86-4b29-9285-4a959d3f93b5",
   "metadata": {},
   "outputs": [],
   "source": [
    "# Get the average demand per hour by the day of the week\n",
    "demand_hour_weekday=taxi_all.groupby(['hour','weekday'],agg=vaex.agg.count('VendorID'))"
   ]
  },
  {
   "cell_type": "code",
   "execution_count": 52,
   "id": "281db4ca-67cb-465a-a885-d23dda918db4",
   "metadata": {},
   "outputs": [],
   "source": [
    "# Covert Vaex DF to Pandas DF\n",
    "demand_hour_weekday_pd=demand_hour_weekday.to_pandas_df()"
   ]
  },
  {
   "cell_type": "code",
   "execution_count": 53,
   "id": "e2e4bf02-50db-433c-bd74-b90084749a29",
   "metadata": {},
   "outputs": [
    {
     "data": {
      "image/png": "[encoded data removed]",
      "text/plain": [
       "<Figure size 1440x1440 with 7 Axes>"
      ]
     },
     "metadata": {
      "needs_background": "light"
     },
     "output_type": "display_data"
    }
   ],
   "source": [
    "# Make the graph 20 inches by 20 inches\n",
    "plt.figure(figsize=(20,20))\n",
    "# Create the weekday name\n",
    "weekday_names = [ \"Mon\", \"Tues\",\"Wed\",\"Thurs\",\"Fri\",\"Sat\",\"Sun\"]# plot numbering starts at 1, not 0\n",
    "plot_number = 1\n",
    "for weekday, selection in demand_hour_weekday_pd.groupby(\"weekday\"):\n",
    "    # Inside of an image that's a 2x4 grid, put this\n",
    "    # graph in the in the plot_number slot.\n",
    "    ax = plt.subplot(4, 2, plot_number)\n",
    "    plt.bar(selection['hour'][0:24],selection['VendorID_count'][0:24])\n",
    "    plt.title('demand of the hour by weekday')\n",
    "    plt.xlabel('hour of the day')\n",
    "    plt.ylabel('# of orders')\n",
    "   \n",
    "    ax.set_title(weekday_names[weekday])\n",
    "\n",
    "    # Go to the next plot for the next loop\n",
    "    plot_number = plot_number + 1\n",
    "plt.tight_layout()"
   ]
  },
  {
   "cell_type": "markdown",
   "id": "f81c33b0-cceb-4b04-bcaa-86d3a3466fb1",
   "metadata": {},
   "source": [
    "From the chart, it is noted that:\n",
    "1. From Sun to Thurs, the demand between 18h and 22h are the higest of the day, but after 23h, the demand drops until 6h.\n",
    "2. By comparison, on Fri and Sat, the demand in the evening is quite high until 0h."
   ]
  },
  {
   "cell_type": "markdown",
   "id": "81cc2482-a202-40d8-90b0-83b26454297b",
   "metadata": {},
   "source": [
    "## Hypothesis : people pay more tips in the weekend?             \n",
    "### H - Test : check the average tip % of different days of the week"
   ]
  },
  {
   "cell_type": "code",
   "execution_count": 54,
   "id": "658b61e0-de83-4d1a-9ec0-a04441cd0b13",
   "metadata": {},
   "outputs": [],
   "source": [
    "# Add a fied to get the % of tips of the \"total_amount\"\n",
    "taxi_all['tip%']=taxi_all['tip_amount']/taxi_all['total_amount']"
   ]
  },
  {
   "cell_type": "code",
   "execution_count": 55,
   "id": "77ac0065-51cc-48a6-b15f-7cc1a0d4e436",
   "metadata": {},
   "outputs": [],
   "source": [
    "%matplotlib inline\n",
    "\n",
    "import matplotlib\n",
    "\n",
    "import matplotlib.pyplot as plt"
   ]
  },
  {
   "cell_type": "code",
   "execution_count": 56,
   "id": "7541a4b0-9ab5-4b7f-943e-b708d26e9eeb",
   "metadata": {},
   "outputs": [],
   "source": [
    "# Exclude the \"cash customers\" because their tip isn't recorded\n",
    "taxi_w_o_cash=taxi_all[taxi_all['payment_type']!=2]"
   ]
  },
  {
   "cell_type": "code",
   "execution_count": 57,
   "id": "ea85fdb8-b46c-4c74-86c2-37a680acc41a",
   "metadata": {},
   "outputs": [],
   "source": [
    "# Get the average tip% by \"weekday\"\n",
    "tip_day=taxi_w_o_cash.groupby(by='weekday').agg({'tip%': 'mean'})"
   ]
  },
  {
   "cell_type": "code",
   "execution_count": 58,
   "id": "62d3b23b-099c-4deb-b7d1-b33f07991b1a",
   "metadata": {},
   "outputs": [],
   "source": [
    "# Convert Vaex DF to Pandas DF\n",
    "tip_day_pd=tip_day.to_pandas_df()\n",
    "tip_day_pd['tip%']=tip_day_pd['tip%']*100"
   ]
  },
  {
   "cell_type": "code",
   "execution_count": 59,
   "id": "fca868bc-5212-470c-a23d-6e10e594f235",
   "metadata": {},
   "outputs": [
    {
     "data": {
      "text/html": [
       "<div>\n",
       "<style scoped>\n",
       "    .dataframe tbody tr th:only-of-type {\n",
       "        vertical-align: middle;\n",
       "    }\n",
       "\n",
       "    .dataframe tbody tr th {\n",
       "        vertical-align: top;\n",
       "    }\n",
       "\n",
       "    .dataframe thead th {\n",
       "        text-align: right;\n",
       "    }\n",
       "</style>\n",
       "<table border=\"1\" class=\"dataframe\">\n",
       "  <thead>\n",
       "    <tr style=\"text-align: right;\">\n",
       "      <th></th>\n",
       "      <th>weekday</th>\n",
       "      <th>tip%</th>\n",
       "    </tr>\n",
       "  </thead>\n",
       "  <tbody>\n",
       "    <tr>\n",
       "      <th>0</th>\n",
       "      <td>0</td>\n",
       "      <td>16.020627</td>\n",
       "    </tr>\n",
       "    <tr>\n",
       "      <th>1</th>\n",
       "      <td>1</td>\n",
       "      <td>16.002581</td>\n",
       "    </tr>\n",
       "    <tr>\n",
       "      <th>2</th>\n",
       "      <td>2</td>\n",
       "      <td>15.995088</td>\n",
       "    </tr>\n",
       "    <tr>\n",
       "      <th>3</th>\n",
       "      <td>3</td>\n",
       "      <td>15.969624</td>\n",
       "    </tr>\n",
       "    <tr>\n",
       "      <th>4</th>\n",
       "      <td>4</td>\n",
       "      <td>15.908003</td>\n",
       "    </tr>\n",
       "    <tr>\n",
       "      <th>5</th>\n",
       "      <td>5</td>\n",
       "      <td>15.944727</td>\n",
       "    </tr>\n",
       "    <tr>\n",
       "      <th>6</th>\n",
       "      <td>6</td>\n",
       "      <td>15.956866</td>\n",
       "    </tr>\n",
       "  </tbody>\n",
       "</table>\n",
       "</div>"
      ],
      "text/plain": [
       "   weekday       tip%\n",
       "0        0  16.020627\n",
       "1        1  16.002581\n",
       "2        2  15.995088\n",
       "3        3  15.969624\n",
       "4        4  15.908003\n",
       "5        5  15.944727\n",
       "6        6  15.956866"
      ]
     },
     "execution_count": 59,
     "metadata": {},
     "output_type": "execute_result"
    }
   ],
   "source": [
    "tip_day_pd"
   ]
  },
  {
   "cell_type": "code",
   "execution_count": 60,
   "id": "1c0719be-e0c9-437f-86ff-4f395394708b",
   "metadata": {},
   "outputs": [],
   "source": [
    "tip_avg=tip_day_pd['tip%'].mean()"
   ]
  },
  {
   "cell_type": "code",
   "execution_count": 61,
   "id": "c22aa5d3-ff48-4e48-b932-815defb4e937",
   "metadata": {},
   "outputs": [
    {
     "data": {
      "image/png": "[encoded data removed]",
      "text/plain": [
       "<Figure size 720x720 with 1 Axes>"
      ]
     },
     "metadata": {
      "needs_background": "light"
     },
     "output_type": "display_data"
    }
   ],
   "source": [
    "weekday_names = [ \"Mon\", \"Tues\",\"Wed\",\"Thurs\",\"Fri\",\"Sat\",\"Sun\"]\n",
    "x = weekday_names\n",
    "y = tip_day_pd['tip%']\n",
    "# Figure Size\n",
    "fig = plt.figure(figsize =(10, 10))\n",
    " \n",
    "# Horizontal Bar Plot\n",
    "plt.bar(x[0:24], y[0:24])\n",
    "plt.title('% of tip of total amount by weekday')\n",
    "plt.xlabel('day of the week')\n",
    "plt.ylabel('% of tip of total')\n",
    "\n",
    "# Reference line\n",
    "plt.axhline(tip_avg, color='red', ls='dotted',label='Average tip%')\n",
    "# Show Plot\n",
    "plt.show()"
   ]
  },
  {
   "cell_type": "markdown",
   "id": "a6af6127-6234-49c0-8f31-62fd8537652a",
   "metadata": {},
   "source": [
    "The chart shows no strong evidence that people pay more tip at weekend."
   ]
  },
  {
   "cell_type": "markdown",
   "id": "30568658-f622-403f-95f5-4f4f1457abce",
   "metadata": {},
   "source": [
    "## Hypothesis 1: people pay more tips in the evening?\n",
    "### H1 - Test 1: check the average tip % by hour as aggregated data"
   ]
  },
  {
   "cell_type": "code",
   "execution_count": 62,
   "id": "9b701afc-7242-4961-be23-075d64c08ff9",
   "metadata": {},
   "outputs": [
    {
     "data": {
      "text/html": [
       "<table>\n",
       "<thead>\n",
       "<tr><th>#                            </th><th style=\"text-align: right;\">  VendorID</th><th>tpep_pickup_datetime         </th><th>tpep_dropoff_datetime        </th><th style=\"text-align: right;\">  passenger_count</th><th style=\"text-align: right;\">  trip_distance</th><th style=\"text-align: right;\">  PULocationID</th><th style=\"text-align: right;\">  DOLocationID</th><th style=\"text-align: right;\">  payment_type</th><th style=\"text-align: right;\">  fare_amount</th><th style=\"text-align: right;\">  tip_amount</th><th style=\"text-align: right;\">  total_amount</th><th>trip_duration  </th><th style=\"text-align: right;\">  year</th><th style=\"text-align: right;\">  month</th><th style=\"text-align: right;\">  weekday</th><th style=\"text-align: right;\">  hour</th><th style=\"text-align: right;\">  duration_min</th><th style=\"text-align: right;\">  fare_mile</th><th style=\"text-align: right;\">    tip%</th></tr>\n",
       "</thead>\n",
       "<tbody>\n",
       "<tr><td><i style='opacity: 0.6'>0</i></td><td style=\"text-align: right;\">         1</td><td>2018-01-01 00:08:26.000000000</td><td>2018-01-01 00:14:21.000000000</td><td style=\"text-align: right;\">                2</td><td style=\"text-align: right;\">            0.8</td><td style=\"text-align: right;\">           262</td><td style=\"text-align: right;\">           141</td><td style=\"text-align: right;\">             1</td><td style=\"text-align: right;\">            6</td><td style=\"text-align: right;\">           1</td><td style=\"text-align: right;\">           8.3</td><td>0 days +0:05:55</td><td style=\"text-align: right;\">  2018</td><td style=\"text-align: right;\">      1</td><td style=\"text-align: right;\">        0</td><td style=\"text-align: right;\">     0</td><td style=\"text-align: right;\">       5.91667</td><td style=\"text-align: right;\">        7.5</td><td style=\"text-align: right;\">0.120482</td></tr>\n",
       "</tbody>\n",
       "</table>"
      ],
      "text/plain": [
       "  #    VendorID  tpep_pickup_datetime           tpep_dropoff_datetime            passenger_count    trip_distance    PULocationID    DOLocationID    payment_type    fare_amount    tip_amount    total_amount  trip_duration      year    month    weekday    hour    duration_min    fare_mile      tip%\n",
       "  0           1  2018-01-01 00:08:26.000000000  2018-01-01 00:14:21.000000000                  2              0.8             262             141               1              6             1             8.3  0 days +0:05:55    2018        1          0       0         5.91667          7.5  0.120482"
      ]
     },
     "execution_count": 62,
     "metadata": {},
     "output_type": "execute_result"
    }
   ],
   "source": [
    "taxi_all.head(1)"
   ]
  },
  {
   "cell_type": "code",
   "execution_count": 63,
   "id": "40809d3e-28df-40bc-8e85-a3c25cf11f47",
   "metadata": {},
   "outputs": [
    {
     "data": {
      "text/html": [
       "<div>\n",
       "<style scoped>\n",
       "    .dataframe tbody tr th:only-of-type {\n",
       "        vertical-align: middle;\n",
       "    }\n",
       "\n",
       "    .dataframe tbody tr th {\n",
       "        vertical-align: top;\n",
       "    }\n",
       "\n",
       "    .dataframe thead th {\n",
       "        text-align: right;\n",
       "    }\n",
       "</style>\n",
       "<table border=\"1\" class=\"dataframe\">\n",
       "  <thead>\n",
       "    <tr style=\"text-align: right;\">\n",
       "      <th></th>\n",
       "      <th>hour</th>\n",
       "      <th>weekday</th>\n",
       "      <th>VendorID_count</th>\n",
       "    </tr>\n",
       "  </thead>\n",
       "  <tbody>\n",
       "    <tr>\n",
       "      <th>0</th>\n",
       "      <td>0</td>\n",
       "      <td>0</td>\n",
       "      <td>170286</td>\n",
       "    </tr>\n",
       "    <tr>\n",
       "      <th>1</th>\n",
       "      <td>0</td>\n",
       "      <td>1</td>\n",
       "      <td>187222</td>\n",
       "    </tr>\n",
       "    <tr>\n",
       "      <th>2</th>\n",
       "      <td>0</td>\n",
       "      <td>2</td>\n",
       "      <td>250127</td>\n",
       "    </tr>\n",
       "    <tr>\n",
       "      <th>3</th>\n",
       "      <td>0</td>\n",
       "      <td>3</td>\n",
       "      <td>286357</td>\n",
       "    </tr>\n",
       "    <tr>\n",
       "      <th>4</th>\n",
       "      <td>0</td>\n",
       "      <td>4</td>\n",
       "      <td>391776</td>\n",
       "    </tr>\n",
       "    <tr>\n",
       "      <th>...</th>\n",
       "      <td>...</td>\n",
       "      <td>...</td>\n",
       "      <td>...</td>\n",
       "    </tr>\n",
       "    <tr>\n",
       "      <th>163</th>\n",
       "      <td>23</td>\n",
       "      <td>2</td>\n",
       "      <td>508011</td>\n",
       "    </tr>\n",
       "    <tr>\n",
       "      <th>164</th>\n",
       "      <td>23</td>\n",
       "      <td>3</td>\n",
       "      <td>603750</td>\n",
       "    </tr>\n",
       "    <tr>\n",
       "      <th>165</th>\n",
       "      <td>23</td>\n",
       "      <td>4</td>\n",
       "      <td>666469</td>\n",
       "    </tr>\n",
       "    <tr>\n",
       "      <th>166</th>\n",
       "      <td>23</td>\n",
       "      <td>5</td>\n",
       "      <td>627249</td>\n",
       "    </tr>\n",
       "    <tr>\n",
       "      <th>167</th>\n",
       "      <td>23</td>\n",
       "      <td>6</td>\n",
       "      <td>273180</td>\n",
       "    </tr>\n",
       "  </tbody>\n",
       "</table>\n",
       "<p>168 rows × 3 columns</p>\n",
       "</div>"
      ],
      "text/plain": [
       "     hour  weekday  VendorID_count\n",
       "0       0        0          170286\n",
       "1       0        1          187222\n",
       "2       0        2          250127\n",
       "3       0        3          286357\n",
       "4       0        4          391776\n",
       "..    ...      ...             ...\n",
       "163    23        2          508011\n",
       "164    23        3          603750\n",
       "165    23        4          666469\n",
       "166    23        5          627249\n",
       "167    23        6          273180\n",
       "\n",
       "[168 rows x 3 columns]"
      ]
     },
     "execution_count": 63,
     "metadata": {},
     "output_type": "execute_result"
    }
   ],
   "source": [
    "demand_hour_weekday_pd"
   ]
  },
  {
   "cell_type": "code",
   "execution_count": 64,
   "id": "96039732-9f37-4ef8-a589-73478a1b11e7",
   "metadata": {},
   "outputs": [],
   "source": [
    "# Get the average tip% by \"hour\"\n",
    "tip_hour=taxi_w_o_cash.groupby(by='hour').agg({'tip%': 'mean'})"
   ]
  },
  {
   "cell_type": "code",
   "execution_count": 65,
   "id": "7a74b405-dce7-4436-b10c-59b3db46bda7",
   "metadata": {},
   "outputs": [],
   "source": [
    "tip_hour_pd=tip_hour.to_pandas_df()"
   ]
  },
  {
   "cell_type": "code",
   "execution_count": 66,
   "id": "1e3dd93f-9394-482f-970e-6889a88b6a7a",
   "metadata": {},
   "outputs": [],
   "source": [
    "tip_hour_pd['tip%']=tip_hour_pd['tip%']*100"
   ]
  },
  {
   "cell_type": "code",
   "execution_count": 67,
   "id": "685eb39d-9d8e-4c97-aaaa-b026d2f531e6",
   "metadata": {},
   "outputs": [],
   "source": [
    "# Get the average tip% of all the hours\n",
    "tip_avg=tip_hour_pd['tip%'].mean()"
   ]
  },
  {
   "cell_type": "code",
   "execution_count": 68,
   "id": "e6f71c0b-bbb4-4d97-88f8-f10a74637f58",
   "metadata": {},
   "outputs": [
    {
     "data": {
      "image/png": "[encoded data removed]",
      "text/plain": [
       "<Figure size 720x720 with 1 Axes>"
      ]
     },
     "metadata": {
      "needs_background": "light"
     },
     "output_type": "display_data"
    }
   ],
   "source": [
    "x = tip_hour_pd['hour']\n",
    "y = tip_hour_pd['tip%']\n",
    "# Figure Size\n",
    "fig = plt.figure(figsize =(10, 10))\n",
    " \n",
    "# Horizontal Bar Plot\n",
    "plt.bar(x[0:24], y[0:24])\n",
    "plt.title('% of tip of total amount by hour')\n",
    "plt.xlabel('hour of the day')\n",
    "plt.ylabel('% of tip of total')\n",
    "\n",
    "# Reference line\n",
    "plt.axhline(tip_avg, color='red', ls='dotted',label='Average tip%')\n",
    "# Show Plot\n",
    "plt.show()"
   ]
  },
  {
   "cell_type": "markdown",
   "id": "13d9aa85-178c-4892-a2fd-e961db1ddeca",
   "metadata": {},
   "source": [
    "From the chart above, there is no obvious evidence that people pay more tips in the evening. So, to further check the analysis, the data goes to the \"day of week\" to check if people pay more tips by hour and by day of week\n",
    "### H1 - Test 2 People pay more tips in the evening of weekday?"
   ]
  },
  {
   "cell_type": "code",
   "execution_count": 69,
   "id": "a25717b8-9383-43f2-a839-42425e1b3aae",
   "metadata": {},
   "outputs": [],
   "source": [
    "tip_hour_weekday=taxi_w_o_cash.groupby(['hour','weekday'],agg=vaex.agg.mean('tip%'))"
   ]
  },
  {
   "cell_type": "code",
   "execution_count": 70,
   "id": "6da42eea-66d9-4ee3-a3b8-fd9e3df22766",
   "metadata": {},
   "outputs": [],
   "source": [
    "tip_hour_weekday_pd=tip_hour_weekday.to_pandas_df()"
   ]
  },
  {
   "cell_type": "code",
   "execution_count": 71,
   "id": "b2901619-32ab-4e27-b83e-f9f1fac589fd",
   "metadata": {},
   "outputs": [],
   "source": [
    "tip_hour_weekday_pd['tip%_mean']=tip_hour_weekday_pd['tip%_mean']*100"
   ]
  },
  {
   "cell_type": "code",
   "execution_count": 72,
   "id": "ebb55bb2-2ba3-4e2a-a8bb-9fdff0a0e70a",
   "metadata": {},
   "outputs": [
    {
     "data": {
      "text/html": [
       "<div>\n",
       "<style scoped>\n",
       "    .dataframe tbody tr th:only-of-type {\n",
       "        vertical-align: middle;\n",
       "    }\n",
       "\n",
       "    .dataframe tbody tr th {\n",
       "        vertical-align: top;\n",
       "    }\n",
       "\n",
       "    .dataframe thead th {\n",
       "        text-align: right;\n",
       "    }\n",
       "</style>\n",
       "<table border=\"1\" class=\"dataframe\">\n",
       "  <thead>\n",
       "    <tr style=\"text-align: right;\">\n",
       "      <th></th>\n",
       "      <th>hour</th>\n",
       "      <th>weekday</th>\n",
       "      <th>tip%_mean</th>\n",
       "    </tr>\n",
       "  </thead>\n",
       "  <tbody>\n",
       "    <tr>\n",
       "      <th>0</th>\n",
       "      <td>0</td>\n",
       "      <td>0</td>\n",
       "      <td>16.062668</td>\n",
       "    </tr>\n",
       "    <tr>\n",
       "      <th>1</th>\n",
       "      <td>0</td>\n",
       "      <td>1</td>\n",
       "      <td>16.304775</td>\n",
       "    </tr>\n",
       "    <tr>\n",
       "      <th>2</th>\n",
       "      <td>0</td>\n",
       "      <td>2</td>\n",
       "      <td>16.269808</td>\n",
       "    </tr>\n",
       "    <tr>\n",
       "      <th>3</th>\n",
       "      <td>0</td>\n",
       "      <td>3</td>\n",
       "      <td>16.234062</td>\n",
       "    </tr>\n",
       "    <tr>\n",
       "      <th>4</th>\n",
       "      <td>0</td>\n",
       "      <td>4</td>\n",
       "      <td>16.098776</td>\n",
       "    </tr>\n",
       "    <tr>\n",
       "      <th>...</th>\n",
       "      <td>...</td>\n",
       "      <td>...</td>\n",
       "      <td>...</td>\n",
       "    </tr>\n",
       "    <tr>\n",
       "      <th>163</th>\n",
       "      <td>23</td>\n",
       "      <td>2</td>\n",
       "      <td>16.112431</td>\n",
       "    </tr>\n",
       "    <tr>\n",
       "      <th>164</th>\n",
       "      <td>23</td>\n",
       "      <td>3</td>\n",
       "      <td>16.009657</td>\n",
       "    </tr>\n",
       "    <tr>\n",
       "      <th>165</th>\n",
       "      <td>23</td>\n",
       "      <td>4</td>\n",
       "      <td>15.836154</td>\n",
       "    </tr>\n",
       "    <tr>\n",
       "      <th>166</th>\n",
       "      <td>23</td>\n",
       "      <td>5</td>\n",
       "      <td>15.737317</td>\n",
       "    </tr>\n",
       "    <tr>\n",
       "      <th>167</th>\n",
       "      <td>23</td>\n",
       "      <td>6</td>\n",
       "      <td>15.961402</td>\n",
       "    </tr>\n",
       "  </tbody>\n",
       "</table>\n",
       "<p>168 rows × 3 columns</p>\n",
       "</div>"
      ],
      "text/plain": [
       "     hour  weekday  tip%_mean\n",
       "0       0        0  16.062668\n",
       "1       0        1  16.304775\n",
       "2       0        2  16.269808\n",
       "3       0        3  16.234062\n",
       "4       0        4  16.098776\n",
       "..    ...      ...        ...\n",
       "163    23        2  16.112431\n",
       "164    23        3  16.009657\n",
       "165    23        4  15.836154\n",
       "166    23        5  15.737317\n",
       "167    23        6  15.961402\n",
       "\n",
       "[168 rows x 3 columns]"
      ]
     },
     "execution_count": 72,
     "metadata": {},
     "output_type": "execute_result"
    }
   ],
   "source": [
    "tip_hour_weekday_pd"
   ]
  },
  {
   "cell_type": "code",
   "execution_count": 73,
   "id": "d2e1d6a6-070e-4a28-abca-3df74defdf69",
   "metadata": {},
   "outputs": [
    {
     "data": {
      "text/plain": [
       "7"
      ]
     },
     "execution_count": 73,
     "metadata": {},
     "output_type": "execute_result"
    }
   ],
   "source": [
    "len(tip_hour_weekday_pd.groupby(\"weekday\"))"
   ]
  },
  {
   "cell_type": "code",
   "execution_count": 74,
   "id": "e1608289-afe4-4113-a47e-0c79386aaf85",
   "metadata": {},
   "outputs": [
    {
     "data": {
      "image/png": "[encoded data removed]",
      "text/plain": [
       "<Figure size 1440x1440 with 7 Axes>"
      ]
     },
     "metadata": {
      "needs_background": "light"
     },
     "output_type": "display_data"
    }
   ],
   "source": [
    "# Make the graph 20 inches by 20 inches\n",
    "plt.figure(figsize=(20,20))\n",
    "# Create the weekday name\n",
    "weekday_names = [ \"Mon\", \"Tues\",\"Wed\",\"Thurs\",\"Fri\",\"Sat\",\"Sun\"]\n",
    "# plot numbering starts at 1, not 0\n",
    "plot_number = 1\n",
    "for weekday, selection in tip_hour_weekday_pd.groupby(\"weekday\"):\n",
    "    # Inside of an image that's a 2x4 grid, put this\n",
    "    # graph in the in the plot_number slot.\n",
    "    ax = plt.subplot(4, 2, plot_number)\n",
    "    plt.bar(selection['hour'][0:24],selection['tip%_mean'][0:24])\n",
    "    plt.title('% of tip of total amount by hour')\n",
    "    plt.xlabel('hour of the day')\n",
    "    plt.ylabel('% of tip of total')\n",
    "   \n",
    "    ax.set_title(weekday_names[weekday])\n",
    "    # Reference line\n",
    "    plt.axhline(tip_avg, color='red', ls='dotted',label='Average tip%')\n",
    "    # Go to the next plot for the next loop\n",
    "    plot_number = plot_number + 1\n",
    "plt.tight_layout()"
   ]
  },
  {
   "cell_type": "markdown",
   "id": "72b32f3c-fa32-4c5e-9c6e-4dfe215871cb",
   "metadata": {},
   "source": [
    "From the charts above, it is found that:\n",
    "1. people pay a tip slightly higher than average after 0 h;\n",
    "2. but on Fri and Sat, people don't pay more after 0h for the tip."
   ]
  },
  {
   "cell_type": "markdown",
   "id": "12c53bdc-3c23-4e17-8fd3-433a76cefa15",
   "metadata": {},
   "source": [
    "## Export data for further visualization"
   ]
  },
  {
   "cell_type": "code",
   "execution_count": 75,
   "id": "f34641ce-f87e-4b2f-b114-93c7d3b0bfb7",
   "metadata": {},
   "outputs": [],
   "source": [
    "# Aggregate the demand by year_month_weekday_hour\n",
    "demand_year_month_weekday_hour=taxi_all.groupby(['year','month','weekday','hour'],agg=vaex.agg.count('VendorID'))\n",
    "\n",
    "# Save file to csv\n",
    "demand_year_month_weekday_hour.export_csv('demand_year_month_weekday_hour.csv')"
   ]
  },
  {
   "cell_type": "code",
   "execution_count": 76,
   "id": "ae50d6c2-9bf5-4944-b40c-34484c809da1",
   "metadata": {},
   "outputs": [],
   "source": [
    "# Aggregate the spend by year_month_weekday_hour\n",
    "spend_year_month_weekday_hour=taxi_all.groupby(['year','month','weekday','hour'],agg=vaex.agg.sum('total_amount'))\n",
    "\n",
    "# Save file to csv\n",
    "spend_year_month_weekday_hour.export_csv('spend_year_month_weekday_hour.csv')"
   ]
  },
  {
   "cell_type": "code",
   "execution_count": 77,
   "id": "57525844-36ce-4f77-8f61-31b3a7ca0901",
   "metadata": {},
   "outputs": [],
   "source": [
    "# Aggregate the tip% by year_month_weekday_hour\n",
    "tip_year_month_weekday_hour=taxi_all.groupby(['year','month','weekday','hour'],agg=vaex.agg.mean('tip%'))\n",
    "\n",
    "# Save file to csv\n",
    "tip_year_month_weekday_hour.export_csv('tip_year_month_weekday_hour.csv')"
   ]
  },
  {
   "cell_type": "code",
   "execution_count": 78,
   "id": "9d1f3e88-8494-43f8-bbc0-39c64d6e4642",
   "metadata": {},
   "outputs": [],
   "source": [
    "# Aggregate the tip% by year_month_weekday_hour_passenger#\n",
    "tip_year_month_weekday_hour_passenger=taxi_all.groupby(['year','month','weekday','hour','passenger_count'],agg=vaex.agg.mean('tip%'))\n",
    "\n",
    "# Save file to csv\n",
    "tip_year_month_weekday_hour_passenger.export_csv('tip_year_month_weekday_hour_passenger.csv')"
   ]
  },
  {
   "cell_type": "code",
   "execution_count": 79,
   "id": "ec2a73ab-1ea0-4220-9c3a-0f9636ef6e60",
   "metadata": {},
   "outputs": [],
   "source": [
    "# Aggregate the trip # by year_month_weekday_hour_passenger#\n",
    "trip_year_month_weekday_hour_passenger=taxi_all.groupby(['year','month','weekday','hour','passenger_count'],agg=vaex.agg.count('VendorID'))\n",
    "\n",
    "# Save file to csv\n",
    "trip_year_month_weekday_hour_passenger.export_csv('trip_year_month_weekday_hour_passenger.csv')"
   ]
  },
  {
   "cell_type": "code",
   "execution_count": 80,
   "id": "75e371c0-dab7-4aaf-83f8-4d1e3bd28d26",
   "metadata": {},
   "outputs": [],
   "source": [
    "# Aggregate the demand by year_month_weekday_location\n",
    "demand_year_month_weekday_location=taxi_all.groupby(['year','month','weekday','DOLocationID'],agg=vaex.agg.count('VendorID'))\n",
    "\n",
    "# Save file to csv\n",
    "demand_year_month_weekday_location.export_csv('demand_year_month_weekday_location.csv')"
   ]
  },
  {
   "cell_type": "markdown",
   "id": "f40ff4bb-d7a5-47a3-b130-b5a662265083",
   "metadata": {
    "tags": []
   },
   "source": [
    "## Other assumptions to visualize directly on Dashboard\n",
    "- People start trips in certain areas in the morning and end trips in certain areas.\n",
    "- People tend to take shorter trips (distance-wise) in the day than in the evening.\n",
    "- People tend to be more generous with tips with low total-cost trips\n",
    "- In 2020, people had more trips at the beginning of Covid breakout but later the trip # decreased.\n",
    "- The pattern of the popular areas above changed after Covid breakout."
   ]
  },
  {
   "cell_type": "markdown",
   "id": "15b7b85f-5618-4949-b578-88f8586a0001",
   "metadata": {},
   "source": [
    "# Predict the tip amount of a trip (from Feb and August 2018 Data)"
   ]
  },
  {
   "cell_type": "code",
   "execution_count": 81,
   "id": "a3ba4f2a-3526-4c2f-b43d-edffe22e437a",
   "metadata": {},
   "outputs": [],
   "source": [
    "# Select 2018 Feb and Aug data \n",
    "taxi_2018_2_8=taxi_all[(taxi_all['year']==2018)&((taxi_all['month']==2)|(taxi_all['month']==8))]\n",
    "# Save to taxi_all DF to parquet to prepare for the linear aggression\n",
    "taxi_2018_2_8.export('taxi_all.parquet')"
   ]
  },
  {
   "cell_type": "code",
   "execution_count": 83,
   "id": "901cd41c-c69a-4f5f-bd4f-619f88a5141c",
   "metadata": {},
   "outputs": [],
   "source": [
    "import pandas as pd\n",
    "taxi_pd=pd.read_parquet(\"/Users/silviawu/Downloads/YellowTaxi/Yellow Taxi Notebook and data output/taxi_all.parquet\")"
   ]
  },
  {
   "cell_type": "code",
   "execution_count": 84,
   "id": "07324b2c-d9b5-4542-9a37-93abbd442305",
   "metadata": {},
   "outputs": [],
   "source": [
    "# Split the df into train and test data\n",
    "from sklearn.model_selection import train_test_split\n",
    "train,test=train_test_split(taxi_pd,test_size=0.2)"
   ]
  },
  {
   "cell_type": "code",
   "execution_count": 85,
   "id": "b980f976-809c-4ead-9789-abf89c4e917f",
   "metadata": {},
   "outputs": [],
   "source": [
    "# Check the correlation of the attributes \n",
    "\n",
    "# Select columns for the correlation \n",
    "train=train.drop(['VendorID'],axis=1)"
   ]
  },
  {
   "cell_type": "code",
   "execution_count": 86,
   "id": "f53923b3-49b5-41c0-8a88-4ea9f11a4b71",
   "metadata": {},
   "outputs": [],
   "source": [
    "# Get the correlation of the attributes with absolute correlation value\n",
    "corrmat=train.corr()\n",
    "sorted_corrs=corrmat['tip_amount'].abs().sort_values()"
   ]
  },
  {
   "cell_type": "code",
   "execution_count": 87,
   "id": "c100e807-d06e-4cc7-98ca-143970454d6c",
   "metadata": {},
   "outputs": [
    {
     "data": {
      "text/plain": [
       "<AxesSubplot:>"
      ]
     },
     "execution_count": 87,
     "metadata": {},
     "output_type": "execute_result"
    },
    {
     "data": {
      "image/png": "[encoded data removed]",
      "text/plain": [
       "<Figure size 432x288 with 2 Axes>"
      ]
     },
     "metadata": {
      "needs_background": "light"
     },
     "output_type": "display_data"
    }
   ],
   "source": [
    "# Select strong correlation\n",
    "# Define strong correlation as >0.3\n",
    "strong_corrs=sorted_corrs[sorted_corrs>0.3]\n",
    "\n",
    "# Visualize the correlation\n",
    "import seaborn as sns\n",
    "\n",
    "corrmat=train[strong_corrs.index].corr()\n",
    "sns.heatmap(corrmat)"
   ]
  },
  {
   "cell_type": "markdown",
   "id": "580620b9-e573-45ec-8269-e68871157fc6",
   "metadata": {},
   "source": [
    "From the correlation of the attributes, the attributes with high correlation will be dropped: fare_amount,total_amount,fare_mile,tip%"
   ]
  },
  {
   "cell_type": "code",
   "execution_count": 88,
   "id": "63396ecc-cd11-4faf-a8ff-10a6f72eee30",
   "metadata": {},
   "outputs": [],
   "source": [
    "columns_to_drop=['fare_amount','total_amount','fare_mile','tip%']\n",
    "train_after_drop=train.drop(columns_to_drop,axis=1)"
   ]
  },
  {
   "cell_type": "code",
   "execution_count": 89,
   "id": "b66755b7-aa09-4928-a03d-2dec2d7cbf73",
   "metadata": {},
   "outputs": [],
   "source": [
    "train_clean=train_after_drop.copy()"
   ]
  },
  {
   "cell_type": "code",
   "execution_count": 90,
   "id": "dd518336-02d2-4eb7-ba2c-79d08fb48510",
   "metadata": {},
   "outputs": [
    {
     "data": {
      "text/html": [
       "<div>\n",
       "<style scoped>\n",
       "    .dataframe tbody tr th:only-of-type {\n",
       "        vertical-align: middle;\n",
       "    }\n",
       "\n",
       "    .dataframe tbody tr th {\n",
       "        vertical-align: top;\n",
       "    }\n",
       "\n",
       "    .dataframe thead th {\n",
       "        text-align: right;\n",
       "    }\n",
       "</style>\n",
       "<table border=\"1\" class=\"dataframe\">\n",
       "  <thead>\n",
       "    <tr style=\"text-align: right;\">\n",
       "      <th></th>\n",
       "      <th>month</th>\n",
       "      <th>weekday</th>\n",
       "      <th>hour</th>\n",
       "    </tr>\n",
       "  </thead>\n",
       "  <tbody>\n",
       "    <tr>\n",
       "      <th>1309427</th>\n",
       "      <td>2</td>\n",
       "      <td>2</td>\n",
       "      <td>16</td>\n",
       "    </tr>\n",
       "    <tr>\n",
       "      <th>4546379</th>\n",
       "      <td>2</td>\n",
       "      <td>5</td>\n",
       "      <td>12</td>\n",
       "    </tr>\n",
       "    <tr>\n",
       "      <th>8130486</th>\n",
       "      <td>8</td>\n",
       "      <td>4</td>\n",
       "      <td>22</td>\n",
       "    </tr>\n",
       "    <tr>\n",
       "      <th>7752130</th>\n",
       "      <td>8</td>\n",
       "      <td>2</td>\n",
       "      <td>19</td>\n",
       "    </tr>\n",
       "    <tr>\n",
       "      <th>4646152</th>\n",
       "      <td>2</td>\n",
       "      <td>5</td>\n",
       "      <td>21</td>\n",
       "    </tr>\n",
       "    <tr>\n",
       "      <th>...</th>\n",
       "      <td>...</td>\n",
       "      <td>...</td>\n",
       "      <td>...</td>\n",
       "    </tr>\n",
       "    <tr>\n",
       "      <th>6565990</th>\n",
       "      <td>8</td>\n",
       "      <td>2</td>\n",
       "      <td>7</td>\n",
       "    </tr>\n",
       "    <tr>\n",
       "      <th>2032129</th>\n",
       "      <td>2</td>\n",
       "      <td>5</td>\n",
       "      <td>23</td>\n",
       "    </tr>\n",
       "    <tr>\n",
       "      <th>8319832</th>\n",
       "      <td>8</td>\n",
       "      <td>6</td>\n",
       "      <td>12</td>\n",
       "    </tr>\n",
       "    <tr>\n",
       "      <th>2059687</th>\n",
       "      <td>2</td>\n",
       "      <td>6</td>\n",
       "      <td>2</td>\n",
       "    </tr>\n",
       "    <tr>\n",
       "      <th>6321541</th>\n",
       "      <td>8</td>\n",
       "      <td>0</td>\n",
       "      <td>18</td>\n",
       "    </tr>\n",
       "  </tbody>\n",
       "</table>\n",
       "<p>8138074 rows × 3 columns</p>\n",
       "</div>"
      ],
      "text/plain": [
       "        month weekday hour\n",
       "1309427     2       2   16\n",
       "4546379     2       5   12\n",
       "8130486     8       4   22\n",
       "7752130     8       2   19\n",
       "4646152     2       5   21\n",
       "...       ...     ...  ...\n",
       "6565990     8       2    7\n",
       "2032129     2       5   23\n",
       "8319832     8       6   12\n",
       "2059687     2       6    2\n",
       "6321541     8       0   18\n",
       "\n",
       "[8138074 rows x 3 columns]"
      ]
     },
     "execution_count": 90,
     "metadata": {},
     "output_type": "execute_result"
    }
   ],
   "source": [
    "# Convert month, weekday and hour to categorical type\n",
    "categorical_columns=['month','weekday','hour']\n",
    "train_clean[categorical_columns].astype('category')"
   ]
  },
  {
   "cell_type": "code",
   "execution_count": 91,
   "id": "f91ddeff-593b-4a93-a311-322cbd104f2d",
   "metadata": {},
   "outputs": [],
   "source": [
    "train_to_convert_to_dummy=train_clean.copy()"
   ]
  },
  {
   "cell_type": "code",
   "execution_count": 92,
   "id": "06243ed5-cd44-4a37-b59b-7fca073c8d27",
   "metadata": {},
   "outputs": [],
   "source": [
    "# Add prefix to month and weekday and hour\n",
    "train_to_convert_to_dummy['month']='m'+train_to_convert_to_dummy['month'].astype(str)\n",
    "train_to_convert_to_dummy['weekday']='w'+train_to_convert_to_dummy['weekday'].astype(str)\n",
    "train_to_convert_to_dummy['hour']='h'+train_to_convert_to_dummy['hour'].astype(str)"
   ]
  },
  {
   "cell_type": "code",
   "execution_count": 93,
   "id": "f539dd22-c2e4-40f8-90fa-c757bbebc871",
   "metadata": {},
   "outputs": [
    {
     "data": {
      "text/html": [
       "<div>\n",
       "<style scoped>\n",
       "    .dataframe tbody tr th:only-of-type {\n",
       "        vertical-align: middle;\n",
       "    }\n",
       "\n",
       "    .dataframe tbody tr th {\n",
       "        vertical-align: top;\n",
       "    }\n",
       "\n",
       "    .dataframe thead th {\n",
       "        text-align: right;\n",
       "    }\n",
       "</style>\n",
       "<table border=\"1\" class=\"dataframe\">\n",
       "  <thead>\n",
       "    <tr style=\"text-align: right;\">\n",
       "      <th></th>\n",
       "      <th>tpep_pickup_datetime</th>\n",
       "      <th>tpep_dropoff_datetime</th>\n",
       "      <th>passenger_count</th>\n",
       "      <th>trip_distance</th>\n",
       "      <th>PULocationID</th>\n",
       "      <th>DOLocationID</th>\n",
       "      <th>payment_type</th>\n",
       "      <th>tip_amount</th>\n",
       "      <th>trip_duration</th>\n",
       "      <th>year</th>\n",
       "      <th>month</th>\n",
       "      <th>weekday</th>\n",
       "      <th>hour</th>\n",
       "      <th>duration_min</th>\n",
       "    </tr>\n",
       "  </thead>\n",
       "  <tbody>\n",
       "    <tr>\n",
       "      <th>1309427</th>\n",
       "      <td>2018-02-07 16:55:59</td>\n",
       "      <td>2018-02-07 17:00:57</td>\n",
       "      <td>1.0</td>\n",
       "      <td>0.78</td>\n",
       "      <td>170</td>\n",
       "      <td>234</td>\n",
       "      <td>1</td>\n",
       "      <td>2.19</td>\n",
       "      <td>0 days 00:04:58</td>\n",
       "      <td>2018</td>\n",
       "      <td>m2</td>\n",
       "      <td>w2</td>\n",
       "      <td>h16</td>\n",
       "      <td>4.966667</td>\n",
       "    </tr>\n",
       "  </tbody>\n",
       "</table>\n",
       "</div>"
      ],
      "text/plain": [
       "        tpep_pickup_datetime tpep_dropoff_datetime  passenger_count  \\\n",
       "1309427  2018-02-07 16:55:59   2018-02-07 17:00:57              1.0   \n",
       "\n",
       "         trip_distance  PULocationID  DOLocationID  payment_type  tip_amount  \\\n",
       "1309427           0.78           170           234             1        2.19   \n",
       "\n",
       "          trip_duration  year month weekday hour  duration_min  \n",
       "1309427 0 days 00:04:58  2018    m2      w2  h16      4.966667  "
      ]
     },
     "execution_count": 93,
     "metadata": {},
     "output_type": "execute_result"
    }
   ],
   "source": [
    "train_to_convert_to_dummy.head(1)"
   ]
  },
  {
   "cell_type": "code",
   "execution_count": 94,
   "id": "5dc8d511-2d2e-463f-a9f9-2bfb00ae7480",
   "metadata": {},
   "outputs": [],
   "source": [
    "train_v=train_to_convert_to_dummy.copy()"
   ]
  },
  {
   "cell_type": "code",
   "execution_count": 95,
   "id": "eb82ebcb-92a8-4660-943a-d479a8814f75",
   "metadata": {},
   "outputs": [
    {
     "data": {
      "text/html": [
       "<div>\n",
       "<style scoped>\n",
       "    .dataframe tbody tr th:only-of-type {\n",
       "        vertical-align: middle;\n",
       "    }\n",
       "\n",
       "    .dataframe tbody tr th {\n",
       "        vertical-align: top;\n",
       "    }\n",
       "\n",
       "    .dataframe thead th {\n",
       "        text-align: right;\n",
       "    }\n",
       "</style>\n",
       "<table border=\"1\" class=\"dataframe\">\n",
       "  <thead>\n",
       "    <tr style=\"text-align: right;\">\n",
       "      <th></th>\n",
       "      <th>tpep_pickup_datetime</th>\n",
       "      <th>tpep_dropoff_datetime</th>\n",
       "      <th>passenger_count</th>\n",
       "      <th>trip_distance</th>\n",
       "      <th>PULocationID</th>\n",
       "      <th>DOLocationID</th>\n",
       "      <th>payment_type</th>\n",
       "      <th>tip_amount</th>\n",
       "      <th>trip_duration</th>\n",
       "      <th>year</th>\n",
       "      <th>month</th>\n",
       "      <th>weekday</th>\n",
       "      <th>hour</th>\n",
       "      <th>duration_min</th>\n",
       "    </tr>\n",
       "  </thead>\n",
       "  <tbody>\n",
       "    <tr>\n",
       "      <th>1309427</th>\n",
       "      <td>2018-02-07 16:55:59</td>\n",
       "      <td>2018-02-07 17:00:57</td>\n",
       "      <td>1.0</td>\n",
       "      <td>0.78</td>\n",
       "      <td>170</td>\n",
       "      <td>234</td>\n",
       "      <td>1</td>\n",
       "      <td>2.19</td>\n",
       "      <td>0 days 00:04:58</td>\n",
       "      <td>2018</td>\n",
       "      <td>m2</td>\n",
       "      <td>w2</td>\n",
       "      <td>h16</td>\n",
       "      <td>4.966667</td>\n",
       "    </tr>\n",
       "    <tr>\n",
       "      <th>4546379</th>\n",
       "      <td>2018-02-24 12:24:40</td>\n",
       "      <td>2018-02-24 12:33:05</td>\n",
       "      <td>2.0</td>\n",
       "      <td>0.80</td>\n",
       "      <td>113</td>\n",
       "      <td>234</td>\n",
       "      <td>1</td>\n",
       "      <td>1.00</td>\n",
       "      <td>0 days 00:08:25</td>\n",
       "      <td>2018</td>\n",
       "      <td>m2</td>\n",
       "      <td>w5</td>\n",
       "      <td>h12</td>\n",
       "      <td>8.416667</td>\n",
       "    </tr>\n",
       "    <tr>\n",
       "      <th>8130486</th>\n",
       "      <td>2018-08-17 22:47:51</td>\n",
       "      <td>2018-08-17 23:09:23</td>\n",
       "      <td>1.0</td>\n",
       "      <td>3.49</td>\n",
       "      <td>211</td>\n",
       "      <td>163</td>\n",
       "      <td>1</td>\n",
       "      <td>4.20</td>\n",
       "      <td>0 days 00:21:32</td>\n",
       "      <td>2018</td>\n",
       "      <td>m8</td>\n",
       "      <td>w4</td>\n",
       "      <td>h22</td>\n",
       "      <td>21.533333</td>\n",
       "    </tr>\n",
       "    <tr>\n",
       "      <th>7752130</th>\n",
       "      <td>2018-08-15 19:52:56</td>\n",
       "      <td>2018-08-15 20:00:38</td>\n",
       "      <td>1.0</td>\n",
       "      <td>2.70</td>\n",
       "      <td>87</td>\n",
       "      <td>4</td>\n",
       "      <td>1</td>\n",
       "      <td>2.95</td>\n",
       "      <td>0 days 00:07:42</td>\n",
       "      <td>2018</td>\n",
       "      <td>m8</td>\n",
       "      <td>w2</td>\n",
       "      <td>h19</td>\n",
       "      <td>7.700000</td>\n",
       "    </tr>\n",
       "    <tr>\n",
       "      <th>4646152</th>\n",
       "      <td>2018-02-24 21:35:22</td>\n",
       "      <td>2018-02-24 22:11:03</td>\n",
       "      <td>2.0</td>\n",
       "      <td>5.70</td>\n",
       "      <td>79</td>\n",
       "      <td>238</td>\n",
       "      <td>1</td>\n",
       "      <td>3.95</td>\n",
       "      <td>0 days 00:35:41</td>\n",
       "      <td>2018</td>\n",
       "      <td>m2</td>\n",
       "      <td>w5</td>\n",
       "      <td>h21</td>\n",
       "      <td>35.683333</td>\n",
       "    </tr>\n",
       "  </tbody>\n",
       "</table>\n",
       "</div>"
      ],
      "text/plain": [
       "        tpep_pickup_datetime tpep_dropoff_datetime  passenger_count  \\\n",
       "1309427  2018-02-07 16:55:59   2018-02-07 17:00:57              1.0   \n",
       "4546379  2018-02-24 12:24:40   2018-02-24 12:33:05              2.0   \n",
       "8130486  2018-08-17 22:47:51   2018-08-17 23:09:23              1.0   \n",
       "7752130  2018-08-15 19:52:56   2018-08-15 20:00:38              1.0   \n",
       "4646152  2018-02-24 21:35:22   2018-02-24 22:11:03              2.0   \n",
       "\n",
       "         trip_distance  PULocationID  DOLocationID  payment_type  tip_amount  \\\n",
       "1309427           0.78           170           234             1        2.19   \n",
       "4546379           0.80           113           234             1        1.00   \n",
       "8130486           3.49           211           163             1        4.20   \n",
       "7752130           2.70            87             4             1        2.95   \n",
       "4646152           5.70            79           238             1        3.95   \n",
       "\n",
       "          trip_duration  year month weekday hour  duration_min  \n",
       "1309427 0 days 00:04:58  2018    m2      w2  h16      4.966667  \n",
       "4546379 0 days 00:08:25  2018    m2      w5  h12      8.416667  \n",
       "8130486 0 days 00:21:32  2018    m8      w4  h22     21.533333  \n",
       "7752130 0 days 00:07:42  2018    m8      w2  h19      7.700000  \n",
       "4646152 0 days 00:35:41  2018    m2      w5  h21     35.683333  "
      ]
     },
     "execution_count": 95,
     "metadata": {},
     "output_type": "execute_result"
    }
   ],
   "source": [
    "train_v.head()"
   ]
  },
  {
   "cell_type": "code",
   "execution_count": 96,
   "id": "9442057b-fb38-4ea7-8f43-a6be6d587d03",
   "metadata": {},
   "outputs": [],
   "source": [
    "# Convert categorical columns to dummy columns and delete it from original data frame\n",
    "for col in categorical_columns:\n",
    "    col_dummies=pd.get_dummies(train_v[col])\n",
    "    train_v=pd.concat([train_v,col_dummies],axis=1)\n",
    "    del train_v[col]\n",
    "    "
   ]
  },
  {
   "cell_type": "code",
   "execution_count": 97,
   "id": "3534becf-4075-4c36-8aab-fcc8bb6baa9b",
   "metadata": {},
   "outputs": [],
   "source": [
    "train_f=train_v.copy()"
   ]
  },
  {
   "cell_type": "code",
   "execution_count": 98,
   "id": "0d1218c0-549a-45df-b0a4-79f5ec9d5c42",
   "metadata": {},
   "outputs": [],
   "source": [
    "# convert Test DF to the same format as train DF\n",
    "test_to_convert=test.copy()"
   ]
  },
  {
   "cell_type": "code",
   "execution_count": 99,
   "id": "63345ff9-81c5-4da0-aee3-5884b1a33a2e",
   "metadata": {},
   "outputs": [
    {
     "data": {
      "text/html": [
       "<div>\n",
       "<style scoped>\n",
       "    .dataframe tbody tr th:only-of-type {\n",
       "        vertical-align: middle;\n",
       "    }\n",
       "\n",
       "    .dataframe tbody tr th {\n",
       "        vertical-align: top;\n",
       "    }\n",
       "\n",
       "    .dataframe thead th {\n",
       "        text-align: right;\n",
       "    }\n",
       "</style>\n",
       "<table border=\"1\" class=\"dataframe\">\n",
       "  <thead>\n",
       "    <tr style=\"text-align: right;\">\n",
       "      <th></th>\n",
       "      <th>month</th>\n",
       "      <th>weekday</th>\n",
       "      <th>hour</th>\n",
       "    </tr>\n",
       "  </thead>\n",
       "  <tbody>\n",
       "    <tr>\n",
       "      <th>8247272</th>\n",
       "      <td>8</td>\n",
       "      <td>5</td>\n",
       "      <td>20</td>\n",
       "    </tr>\n",
       "    <tr>\n",
       "      <th>760864</th>\n",
       "      <td>2</td>\n",
       "      <td>6</td>\n",
       "      <td>18</td>\n",
       "    </tr>\n",
       "    <tr>\n",
       "      <th>965409</th>\n",
       "      <td>2</td>\n",
       "      <td>0</td>\n",
       "      <td>20</td>\n",
       "    </tr>\n",
       "    <tr>\n",
       "      <th>5438568</th>\n",
       "      <td>8</td>\n",
       "      <td>2</td>\n",
       "      <td>2</td>\n",
       "    </tr>\n",
       "    <tr>\n",
       "      <th>9488137</th>\n",
       "      <td>8</td>\n",
       "      <td>0</td>\n",
       "      <td>16</td>\n",
       "    </tr>\n",
       "    <tr>\n",
       "      <th>...</th>\n",
       "      <td>...</td>\n",
       "      <td>...</td>\n",
       "      <td>...</td>\n",
       "    </tr>\n",
       "    <tr>\n",
       "      <th>3904404</th>\n",
       "      <td>2</td>\n",
       "      <td>2</td>\n",
       "      <td>8</td>\n",
       "    </tr>\n",
       "    <tr>\n",
       "      <th>7887830</th>\n",
       "      <td>8</td>\n",
       "      <td>3</td>\n",
       "      <td>15</td>\n",
       "    </tr>\n",
       "    <tr>\n",
       "      <th>1645872</th>\n",
       "      <td>2</td>\n",
       "      <td>4</td>\n",
       "      <td>7</td>\n",
       "    </tr>\n",
       "    <tr>\n",
       "      <th>2656131</th>\n",
       "      <td>2</td>\n",
       "      <td>2</td>\n",
       "      <td>11</td>\n",
       "    </tr>\n",
       "    <tr>\n",
       "      <th>5153608</th>\n",
       "      <td>2</td>\n",
       "      <td>1</td>\n",
       "      <td>18</td>\n",
       "    </tr>\n",
       "  </tbody>\n",
       "</table>\n",
       "<p>2034519 rows × 3 columns</p>\n",
       "</div>"
      ],
      "text/plain": [
       "        month weekday hour\n",
       "8247272     8       5   20\n",
       "760864      2       6   18\n",
       "965409      2       0   20\n",
       "5438568     8       2    2\n",
       "9488137     8       0   16\n",
       "...       ...     ...  ...\n",
       "3904404     2       2    8\n",
       "7887830     8       3   15\n",
       "1645872     2       4    7\n",
       "2656131     2       2   11\n",
       "5153608     2       1   18\n",
       "\n",
       "[2034519 rows x 3 columns]"
      ]
     },
     "execution_count": 99,
     "metadata": {},
     "output_type": "execute_result"
    }
   ],
   "source": [
    "# Convert month, weekday and hour to categorical type\n",
    "categorical_columns=['month','weekday','hour']\n",
    "test_to_convert[categorical_columns].astype('category')"
   ]
  },
  {
   "cell_type": "code",
   "execution_count": 100,
   "id": "37af6b75-eb07-46a6-908d-a46f833ded34",
   "metadata": {},
   "outputs": [],
   "source": [
    "# Add prefix to month and weekday and hour\n",
    "test_to_convert['month']='m'+test_to_convert['month'].astype(str)\n",
    "test_to_convert['weekday']='w'+test_to_convert['weekday'].astype(str)\n",
    "test_to_convert['hour']='h'+test_to_convert['hour'].astype(str)"
   ]
  },
  {
   "cell_type": "code",
   "execution_count": 101,
   "id": "03bdc907-b780-4bf8-9040-62b069ef099b",
   "metadata": {},
   "outputs": [],
   "source": [
    "# Convert categorical columns to dummy columns and delete it from original data frame\n",
    "for col in categorical_columns:\n",
    "    col_dummies=pd.get_dummies(test_to_convert[col])\n",
    "    test_to_convert=pd.concat([test_to_convert,col_dummies],axis=1)\n",
    "    del test_to_convert[col]"
   ]
  },
  {
   "cell_type": "code",
   "execution_count": 102,
   "id": "46aa6ba7-ed12-4551-aeec-03308138bbd9",
   "metadata": {},
   "outputs": [
    {
     "data": {
      "text/html": [
       "<div>\n",
       "<style scoped>\n",
       "    .dataframe tbody tr th:only-of-type {\n",
       "        vertical-align: middle;\n",
       "    }\n",
       "\n",
       "    .dataframe tbody tr th {\n",
       "        vertical-align: top;\n",
       "    }\n",
       "\n",
       "    .dataframe thead th {\n",
       "        text-align: right;\n",
       "    }\n",
       "</style>\n",
       "<table border=\"1\" class=\"dataframe\">\n",
       "  <thead>\n",
       "    <tr style=\"text-align: right;\">\n",
       "      <th></th>\n",
       "      <th>VendorID</th>\n",
       "      <th>tpep_pickup_datetime</th>\n",
       "      <th>tpep_dropoff_datetime</th>\n",
       "      <th>passenger_count</th>\n",
       "      <th>trip_distance</th>\n",
       "      <th>PULocationID</th>\n",
       "      <th>DOLocationID</th>\n",
       "      <th>payment_type</th>\n",
       "      <th>fare_amount</th>\n",
       "      <th>tip_amount</th>\n",
       "      <th>...</th>\n",
       "      <th>h21</th>\n",
       "      <th>h22</th>\n",
       "      <th>h23</th>\n",
       "      <th>h3</th>\n",
       "      <th>h4</th>\n",
       "      <th>h5</th>\n",
       "      <th>h6</th>\n",
       "      <th>h7</th>\n",
       "      <th>h8</th>\n",
       "      <th>h9</th>\n",
       "    </tr>\n",
       "  </thead>\n",
       "  <tbody>\n",
       "    <tr>\n",
       "      <th>8247272</th>\n",
       "      <td>2</td>\n",
       "      <td>2018-08-18 20:41:30</td>\n",
       "      <td>2018-08-18 20:47:13</td>\n",
       "      <td>6.0</td>\n",
       "      <td>1.56</td>\n",
       "      <td>237</td>\n",
       "      <td>236</td>\n",
       "      <td>1</td>\n",
       "      <td>7.0</td>\n",
       "      <td>1.00</td>\n",
       "      <td>...</td>\n",
       "      <td>0</td>\n",
       "      <td>0</td>\n",
       "      <td>0</td>\n",
       "      <td>0</td>\n",
       "      <td>0</td>\n",
       "      <td>0</td>\n",
       "      <td>0</td>\n",
       "      <td>0</td>\n",
       "      <td>0</td>\n",
       "      <td>0</td>\n",
       "    </tr>\n",
       "    <tr>\n",
       "      <th>760864</th>\n",
       "      <td>2</td>\n",
       "      <td>2018-02-04 18:09:43</td>\n",
       "      <td>2018-02-04 18:16:13</td>\n",
       "      <td>4.0</td>\n",
       "      <td>0.90</td>\n",
       "      <td>166</td>\n",
       "      <td>166</td>\n",
       "      <td>1</td>\n",
       "      <td>6.0</td>\n",
       "      <td>1.36</td>\n",
       "      <td>...</td>\n",
       "      <td>0</td>\n",
       "      <td>0</td>\n",
       "      <td>0</td>\n",
       "      <td>0</td>\n",
       "      <td>0</td>\n",
       "      <td>0</td>\n",
       "      <td>0</td>\n",
       "      <td>0</td>\n",
       "      <td>0</td>\n",
       "      <td>0</td>\n",
       "    </tr>\n",
       "    <tr>\n",
       "      <th>965409</th>\n",
       "      <td>1</td>\n",
       "      <td>2018-02-05 20:30:34</td>\n",
       "      <td>2018-02-05 20:37:05</td>\n",
       "      <td>1.0</td>\n",
       "      <td>1.10</td>\n",
       "      <td>170</td>\n",
       "      <td>48</td>\n",
       "      <td>1</td>\n",
       "      <td>6.5</td>\n",
       "      <td>1.00</td>\n",
       "      <td>...</td>\n",
       "      <td>0</td>\n",
       "      <td>0</td>\n",
       "      <td>0</td>\n",
       "      <td>0</td>\n",
       "      <td>0</td>\n",
       "      <td>0</td>\n",
       "      <td>0</td>\n",
       "      <td>0</td>\n",
       "      <td>0</td>\n",
       "      <td>0</td>\n",
       "    </tr>\n",
       "  </tbody>\n",
       "</table>\n",
       "<p>3 rows × 49 columns</p>\n",
       "</div>"
      ],
      "text/plain": [
       "         VendorID tpep_pickup_datetime tpep_dropoff_datetime  passenger_count  \\\n",
       "8247272         2  2018-08-18 20:41:30   2018-08-18 20:47:13              6.0   \n",
       "760864          2  2018-02-04 18:09:43   2018-02-04 18:16:13              4.0   \n",
       "965409          1  2018-02-05 20:30:34   2018-02-05 20:37:05              1.0   \n",
       "\n",
       "         trip_distance  PULocationID  DOLocationID  payment_type  fare_amount  \\\n",
       "8247272           1.56           237           236             1          7.0   \n",
       "760864            0.90           166           166             1          6.0   \n",
       "965409            1.10           170            48             1          6.5   \n",
       "\n",
       "         tip_amount  ...  h21 h22  h23  h3  h4  h5  h6  h7  h8  h9  \n",
       "8247272        1.00  ...    0   0    0   0   0   0   0   0   0   0  \n",
       "760864         1.36  ...    0   0    0   0   0   0   0   0   0   0  \n",
       "965409         1.00  ...    0   0    0   0   0   0   0   0   0   0  \n",
       "\n",
       "[3 rows x 49 columns]"
      ]
     },
     "execution_count": 102,
     "metadata": {},
     "output_type": "execute_result"
    }
   ],
   "source": [
    "test_v=test_to_convert.copy()\n",
    "test_v.head(3)"
   ]
  },
  {
   "cell_type": "code",
   "execution_count": 103,
   "id": "8c757db0-4549-482e-bc66-3a99bb871af2",
   "metadata": {},
   "outputs": [],
   "source": [
    "# Drop columns from test_v for columns that have been dropped from train DF\n",
    "columns_to_drop=['fare_amount','total_amount','fare_mile','tip%','VendorID']\n",
    "test_f=test_v.drop(columns_to_drop,axis=1)"
   ]
  },
  {
   "cell_type": "code",
   "execution_count": 104,
   "id": "6252697c-b2b1-45a4-8d2e-253c2b51fc46",
   "metadata": {},
   "outputs": [],
   "source": [
    "# Select attributes for the linear regression\n",
    "attributes_to_drop=['tpep_pickup_datetime','tpep_dropoff_datetime','PULocationID','DOLocationID','payment_type','trip_duration','year']"
   ]
  },
  {
   "cell_type": "code",
   "execution_count": 105,
   "id": "b77eeea9-92e8-4162-9ff2-31e938f8e5ed",
   "metadata": {},
   "outputs": [],
   "source": [
    "# Drop the columns above from train data\n",
    "train_final=train_f.drop(attributes_to_drop,axis=1)"
   ]
  },
  {
   "cell_type": "code",
   "execution_count": 106,
   "id": "57c0b32f-1de3-4b21-b4e0-872513065f52",
   "metadata": {},
   "outputs": [],
   "source": [
    "# Drop the columns above from test data\n",
    "test_final=test_f.drop(attributes_to_drop,axis=1)"
   ]
  },
  {
   "cell_type": "code",
   "execution_count": 107,
   "id": "cc672584-6709-4f20-a9bc-73c7d0482f5a",
   "metadata": {},
   "outputs": [],
   "source": [
    "# Import sklearn LR\n",
    "from sklearn.linear_model import LinearRegression\n",
    "lr=LinearRegression()"
   ]
  },
  {
   "cell_type": "code",
   "execution_count": 108,
   "id": "47a8d81d-7560-410d-bd91-ffb5084ab66c",
   "metadata": {},
   "outputs": [],
   "source": [
    "# Specify the variables and target\n",
    "variables=['passenger_count', 'trip_distance', 'duration_min', 'm2',\n",
    "       'm8', 'w0', 'w1', 'w2', 'w3', 'w4', 'w5', 'w6', 'h0', 'h1', 'h10',\n",
    "       'h11', 'h12', 'h13', 'h14', 'h15', 'h16', 'h17', 'h18', 'h19', 'h2',\n",
    "       'h20', 'h21', 'h22', 'h23', 'h3', 'h4', 'h5', 'h6', 'h7', 'h8', 'h9']\n",
    "target=['tip_amount']"
   ]
  },
  {
   "cell_type": "code",
   "execution_count": 109,
   "id": "577555ec-a326-4217-9b6d-8c277ab623f4",
   "metadata": {},
   "outputs": [
    {
     "data": {
      "text/plain": [
       "LinearRegression()"
      ]
     },
     "execution_count": 109,
     "metadata": {},
     "output_type": "execute_result"
    }
   ],
   "source": [
    "# fit the train data\n",
    "lr.fit(train_final[variables],train_final[target])"
   ]
  },
  {
   "cell_type": "code",
   "execution_count": 110,
   "id": "29ee93e2-797d-4f37-8993-977405c1fe80",
   "metadata": {},
   "outputs": [],
   "source": [
    "# Predict train and test data with the LR\n",
    "train_predictions=lr.predict(train_final[variables])\n",
    "test_predictions=lr.predict(test_final[variables])"
   ]
  },
  {
   "cell_type": "code",
   "execution_count": 111,
   "id": "d1910a4f-af83-4ab8-ae1b-8ae919e98b6d",
   "metadata": {},
   "outputs": [],
   "source": [
    "# Import numpy and mse\n",
    "import numpy as np\n",
    "from sklearn.metrics import mean_squared_error\n",
    "# Calculate the RMSE of train and test data\n",
    "train_rmse=np.sqrt(mean_squared_error(train_predictions,train_final[target]))\n",
    "test_rmse=np.sqrt(mean_squared_error(test_predictions,test_final[target]))\n",
    "                     "
   ]
  },
  {
   "cell_type": "code",
   "execution_count": 112,
   "id": "81deea3f-143e-450d-89bd-4e5fe219ba22",
   "metadata": {},
   "outputs": [
    {
     "name": "stdout",
     "output_type": "stream",
     "text": [
      "1.4441931340608005\n",
      "1.4435748767358079\n"
     ]
    }
   ],
   "source": [
    "print(train_rmse)\n",
    "print(test_rmse)"
   ]
  },
  {
   "cell_type": "code",
   "execution_count": 113,
   "id": "6d864d4c-26f2-4f1a-905d-6f133f18f8dd",
   "metadata": {},
   "outputs": [
    {
     "data": {
      "text/plain": [
       "array([3.84433691e+08])"
      ]
     },
     "execution_count": 113,
     "metadata": {},
     "output_type": "execute_result"
    }
   ],
   "source": [
    "lr.intercept_"
   ]
  },
  {
   "cell_type": "code",
   "execution_count": 114,
   "id": "290b9367-67ae-414f-9b50-579b0d0e839d",
   "metadata": {},
   "outputs": [
    {
     "data": {
      "text/plain": [
       "array([[ 5.51637941e-03,  5.64975001e-01,  3.92771853e-04,\n",
       "        -7.93234264e+06, -7.93234264e+06, -2.26013678e+08,\n",
       "        -2.26013678e+08, -2.26013678e+08, -2.26013678e+08,\n",
       "        -2.26013678e+08, -2.26013679e+08, -2.26013679e+08,\n",
       "        -1.50487669e+08, -1.50487669e+08, -1.50487669e+08,\n",
       "        -1.50487669e+08, -1.50487669e+08, -1.50487669e+08,\n",
       "        -1.50487669e+08, -1.50487669e+08, -1.50487669e+08,\n",
       "        -1.50487669e+08, -1.50487669e+08, -1.50487669e+08,\n",
       "        -1.50487669e+08, -1.50487669e+08, -1.50487669e+08,\n",
       "        -1.50487669e+08, -1.50487669e+08, -1.50487669e+08,\n",
       "        -1.50487669e+08, -1.50487669e+08, -1.50487669e+08,\n",
       "        -1.50487669e+08, -1.50487669e+08, -1.50487669e+08]])"
      ]
     },
     "execution_count": 114,
     "metadata": {},
     "output_type": "execute_result"
    }
   ],
   "source": [
    "lr.coef_"
   ]
  },
  {
   "cell_type": "markdown",
   "id": "13d1324b-bc43-46de-af62-2f53889da008",
   "metadata": {},
   "source": [
    "As it is very hard to see the coefficients as they are, the variables are to be aggregated to test\n",
    "## Test with aggregated weekday and hour"
   ]
  },
  {
   "cell_type": "code",
   "execution_count": 115,
   "id": "3797996e-e535-4f0d-b20c-9f9fbbd424e7",
   "metadata": {},
   "outputs": [],
   "source": [
    "# Convert Weekday to \"weekday\" and \"weekend\" \n",
    "train_agg=train_final.copy()"
   ]
  },
  {
   "cell_type": "code",
   "execution_count": 116,
   "id": "b1a62be7-a491-4c7b-8e61-c7deff30803f",
   "metadata": {},
   "outputs": [],
   "source": [
    "train_agg['In_week']=train_agg['w0']+train_agg['w1']+train_agg['w2']+train_agg['w3']+train_agg['w4']\n",
    "train_agg['At_weekend']=train_agg['w5']+train_agg['w6']"
   ]
  },
  {
   "cell_type": "code",
   "execution_count": 117,
   "id": "29fbc078-d20f-4273-bf51-fcbc523ea22c",
   "metadata": {},
   "outputs": [],
   "source": [
    "# Convert hour to \"Morning\" \"Afternoon\" \"Evening\" \"Night\"\n",
    "train_agg['Morning']=train_agg['h6']+train_agg['h7']+train_agg['h8']+train_agg['h9']+train_agg['h10']+train_agg['h11']\n",
    "train_agg['Afternoon']=train_agg['h12']+train_agg['h13']+train_agg['h14']+train_agg['h15']+train_agg['h16']+train_agg['h17']\n",
    "train_agg['Evening']=train_agg['h18']+train_agg['h19']+train_agg['h20']+train_agg['h21']+train_agg['h22']+train_agg['h23']\n",
    "train_agg['Night']=train_agg['h0']+train_agg['h1']+train_agg['h2']+train_agg['h3']+train_agg['h4']+train_agg['h5']"
   ]
  },
  {
   "cell_type": "code",
   "execution_count": 118,
   "id": "db5f85f2-45d4-4802-8ee5-7840307968ef",
   "metadata": {},
   "outputs": [
    {
     "data": {
      "text/html": [
       "<div>\n",
       "<style scoped>\n",
       "    .dataframe tbody tr th:only-of-type {\n",
       "        vertical-align: middle;\n",
       "    }\n",
       "\n",
       "    .dataframe tbody tr th {\n",
       "        vertical-align: top;\n",
       "    }\n",
       "\n",
       "    .dataframe thead th {\n",
       "        text-align: right;\n",
       "    }\n",
       "</style>\n",
       "<table border=\"1\" class=\"dataframe\">\n",
       "  <thead>\n",
       "    <tr style=\"text-align: right;\">\n",
       "      <th></th>\n",
       "      <th>passenger_count</th>\n",
       "      <th>trip_distance</th>\n",
       "      <th>tip_amount</th>\n",
       "      <th>duration_min</th>\n",
       "      <th>m2</th>\n",
       "      <th>m8</th>\n",
       "      <th>w0</th>\n",
       "      <th>w1</th>\n",
       "      <th>w2</th>\n",
       "      <th>w3</th>\n",
       "      <th>...</th>\n",
       "      <th>h6</th>\n",
       "      <th>h7</th>\n",
       "      <th>h8</th>\n",
       "      <th>h9</th>\n",
       "      <th>In_week</th>\n",
       "      <th>At_weekend</th>\n",
       "      <th>Morning</th>\n",
       "      <th>Afternoon</th>\n",
       "      <th>Evening</th>\n",
       "      <th>Night</th>\n",
       "    </tr>\n",
       "  </thead>\n",
       "  <tbody>\n",
       "    <tr>\n",
       "      <th>1309427</th>\n",
       "      <td>1.0</td>\n",
       "      <td>0.78</td>\n",
       "      <td>2.19</td>\n",
       "      <td>4.966667</td>\n",
       "      <td>1</td>\n",
       "      <td>0</td>\n",
       "      <td>0</td>\n",
       "      <td>0</td>\n",
       "      <td>1</td>\n",
       "      <td>0</td>\n",
       "      <td>...</td>\n",
       "      <td>0</td>\n",
       "      <td>0</td>\n",
       "      <td>0</td>\n",
       "      <td>0</td>\n",
       "      <td>1</td>\n",
       "      <td>0</td>\n",
       "      <td>0</td>\n",
       "      <td>1</td>\n",
       "      <td>0</td>\n",
       "      <td>0</td>\n",
       "    </tr>\n",
       "    <tr>\n",
       "      <th>4546379</th>\n",
       "      <td>2.0</td>\n",
       "      <td>0.80</td>\n",
       "      <td>1.00</td>\n",
       "      <td>8.416667</td>\n",
       "      <td>1</td>\n",
       "      <td>0</td>\n",
       "      <td>0</td>\n",
       "      <td>0</td>\n",
       "      <td>0</td>\n",
       "      <td>0</td>\n",
       "      <td>...</td>\n",
       "      <td>0</td>\n",
       "      <td>0</td>\n",
       "      <td>0</td>\n",
       "      <td>0</td>\n",
       "      <td>0</td>\n",
       "      <td>1</td>\n",
       "      <td>0</td>\n",
       "      <td>1</td>\n",
       "      <td>0</td>\n",
       "      <td>0</td>\n",
       "    </tr>\n",
       "    <tr>\n",
       "      <th>8130486</th>\n",
       "      <td>1.0</td>\n",
       "      <td>3.49</td>\n",
       "      <td>4.20</td>\n",
       "      <td>21.533333</td>\n",
       "      <td>0</td>\n",
       "      <td>1</td>\n",
       "      <td>0</td>\n",
       "      <td>0</td>\n",
       "      <td>0</td>\n",
       "      <td>0</td>\n",
       "      <td>...</td>\n",
       "      <td>0</td>\n",
       "      <td>0</td>\n",
       "      <td>0</td>\n",
       "      <td>0</td>\n",
       "      <td>1</td>\n",
       "      <td>0</td>\n",
       "      <td>0</td>\n",
       "      <td>0</td>\n",
       "      <td>1</td>\n",
       "      <td>0</td>\n",
       "    </tr>\n",
       "    <tr>\n",
       "      <th>7752130</th>\n",
       "      <td>1.0</td>\n",
       "      <td>2.70</td>\n",
       "      <td>2.95</td>\n",
       "      <td>7.700000</td>\n",
       "      <td>0</td>\n",
       "      <td>1</td>\n",
       "      <td>0</td>\n",
       "      <td>0</td>\n",
       "      <td>1</td>\n",
       "      <td>0</td>\n",
       "      <td>...</td>\n",
       "      <td>0</td>\n",
       "      <td>0</td>\n",
       "      <td>0</td>\n",
       "      <td>0</td>\n",
       "      <td>1</td>\n",
       "      <td>0</td>\n",
       "      <td>0</td>\n",
       "      <td>0</td>\n",
       "      <td>1</td>\n",
       "      <td>0</td>\n",
       "    </tr>\n",
       "    <tr>\n",
       "      <th>4646152</th>\n",
       "      <td>2.0</td>\n",
       "      <td>5.70</td>\n",
       "      <td>3.95</td>\n",
       "      <td>35.683333</td>\n",
       "      <td>1</td>\n",
       "      <td>0</td>\n",
       "      <td>0</td>\n",
       "      <td>0</td>\n",
       "      <td>0</td>\n",
       "      <td>0</td>\n",
       "      <td>...</td>\n",
       "      <td>0</td>\n",
       "      <td>0</td>\n",
       "      <td>0</td>\n",
       "      <td>0</td>\n",
       "      <td>0</td>\n",
       "      <td>1</td>\n",
       "      <td>0</td>\n",
       "      <td>0</td>\n",
       "      <td>1</td>\n",
       "      <td>0</td>\n",
       "    </tr>\n",
       "  </tbody>\n",
       "</table>\n",
       "<p>5 rows × 43 columns</p>\n",
       "</div>"
      ],
      "text/plain": [
       "         passenger_count  trip_distance  tip_amount  duration_min  m2  m8  w0  \\\n",
       "1309427              1.0           0.78        2.19      4.966667   1   0   0   \n",
       "4546379              2.0           0.80        1.00      8.416667   1   0   0   \n",
       "8130486              1.0           3.49        4.20     21.533333   0   1   0   \n",
       "7752130              1.0           2.70        2.95      7.700000   0   1   0   \n",
       "4646152              2.0           5.70        3.95     35.683333   1   0   0   \n",
       "\n",
       "         w1  w2  w3  ...  h6  h7  h8  h9  In_week  At_weekend  Morning  \\\n",
       "1309427   0   1   0  ...   0   0   0   0        1           0        0   \n",
       "4546379   0   0   0  ...   0   0   0   0        0           1        0   \n",
       "8130486   0   0   0  ...   0   0   0   0        1           0        0   \n",
       "7752130   0   1   0  ...   0   0   0   0        1           0        0   \n",
       "4646152   0   0   0  ...   0   0   0   0        0           1        0   \n",
       "\n",
       "         Afternoon  Evening  Night  \n",
       "1309427          1        0      0  \n",
       "4546379          1        0      0  \n",
       "8130486          0        1      0  \n",
       "7752130          0        1      0  \n",
       "4646152          0        1      0  \n",
       "\n",
       "[5 rows x 43 columns]"
      ]
     },
     "execution_count": 118,
     "metadata": {},
     "output_type": "execute_result"
    }
   ],
   "source": [
    "train_agg.head()"
   ]
  },
  {
   "cell_type": "code",
   "execution_count": 119,
   "id": "150a4b1b-73f2-42bb-b9b9-a228869d3dd8",
   "metadata": {},
   "outputs": [],
   "source": [
    "# Convert Weekday to \"weekday\" and \"weekend\" for test data and \"hour\" to \"Morning\" \"Afternoon\" \"Evening\" \"Night\"\n",
    "# Exclude duration in min\n",
    "test_agg=test_final.copy()\n",
    "\n",
    "test_agg['In_week']=test_agg['w0']+test_agg['w1']+test_agg['w2']+test_agg['w3']+test_agg['w4']\n",
    "test_agg['At_weekend']=test_agg['w5']+test_agg['w6']\n",
    "\n",
    "test_agg['Morning']=test_agg['h6']+test_agg['h7']+test_agg['h8']+test_agg['h9']+test_agg['h10']+test_agg['h11']\n",
    "test_agg['Afternoon']=test_agg['h12']+test_agg['h13']+test_agg['h14']+test_agg['h15']+test_agg['h16']+test_agg['h17']\n",
    "test_agg['Evening']=test_agg['h18']+test_agg['h19']+test_agg['h20']+test_agg['h21']+test_agg['h22']+test_agg['h23']\n",
    "test_agg['Night']=test_agg['h0']+test_agg['h1']+test_agg['h2']+test_agg['h3']+test_agg['h4']+test_agg['h5']\n"
   ]
  },
  {
   "cell_type": "code",
   "execution_count": 120,
   "id": "08840d0f-5b64-464b-a290-4e834065d1a1",
   "metadata": {},
   "outputs": [
    {
     "name": "stdout",
     "output_type": "stream",
     "text": [
      "<class 'pandas.core.frame.DataFrame'>\n",
      "Int64Index: 8138074 entries, 1309427 to 6321541\n",
      "Data columns (total 43 columns):\n",
      " #   Column           Dtype  \n",
      "---  ------           -----  \n",
      " 0   passenger_count  float64\n",
      " 1   trip_distance    float64\n",
      " 2   tip_amount       float64\n",
      " 3   duration_min     float64\n",
      " 4   m2               uint8  \n",
      " 5   m8               uint8  \n",
      " 6   w0               uint8  \n",
      " 7   w1               uint8  \n",
      " 8   w2               uint8  \n",
      " 9   w3               uint8  \n",
      " 10  w4               uint8  \n",
      " 11  w5               uint8  \n",
      " 12  w6               uint8  \n",
      " 13  h0               uint8  \n",
      " 14  h1               uint8  \n",
      " 15  h10              uint8  \n",
      " 16  h11              uint8  \n",
      " 17  h12              uint8  \n",
      " 18  h13              uint8  \n",
      " 19  h14              uint8  \n",
      " 20  h15              uint8  \n",
      " 21  h16              uint8  \n",
      " 22  h17              uint8  \n",
      " 23  h18              uint8  \n",
      " 24  h19              uint8  \n",
      " 25  h2               uint8  \n",
      " 26  h20              uint8  \n",
      " 27  h21              uint8  \n",
      " 28  h22              uint8  \n",
      " 29  h23              uint8  \n",
      " 30  h3               uint8  \n",
      " 31  h4               uint8  \n",
      " 32  h5               uint8  \n",
      " 33  h6               uint8  \n",
      " 34  h7               uint8  \n",
      " 35  h8               uint8  \n",
      " 36  h9               uint8  \n",
      " 37  In_week          uint8  \n",
      " 38  At_weekend       uint8  \n",
      " 39  Morning          uint8  \n",
      " 40  Afternoon        uint8  \n",
      " 41  Evening          uint8  \n",
      " 42  Night            uint8  \n",
      "dtypes: float64(4), uint8(39)\n",
      "memory usage: 613.1 MB\n"
     ]
    }
   ],
   "source": [
    "train_agg.info()"
   ]
  },
  {
   "cell_type": "code",
   "execution_count": 121,
   "id": "9fd24ba7-9678-4d49-b1d4-ebc6a145eda0",
   "metadata": {},
   "outputs": [],
   "source": [
    "# Select columns to keep\n",
    "columns_to_keep=['passenger_count','trip_distance','tip_amount','duration_min','In_week','At_weekend','Morning','Afternoon','Evening','Night','m2','m8']"
   ]
  },
  {
   "cell_type": "code",
   "execution_count": 122,
   "id": "59729884-c87c-40a3-9a08-4f914974ca16",
   "metadata": {},
   "outputs": [
    {
     "name": "stdout",
     "output_type": "stream",
     "text": [
      "1.4483202704809457\n",
      "1.4475341709530352\n"
     ]
    },
    {
     "data": {
      "text/html": [
       "<div>\n",
       "<style scoped>\n",
       "    .dataframe tbody tr th:only-of-type {\n",
       "        vertical-align: middle;\n",
       "    }\n",
       "\n",
       "    .dataframe tbody tr th {\n",
       "        vertical-align: top;\n",
       "    }\n",
       "\n",
       "    .dataframe thead th {\n",
       "        text-align: right;\n",
       "    }\n",
       "</style>\n",
       "<table border=\"1\" class=\"dataframe\">\n",
       "  <thead>\n",
       "    <tr style=\"text-align: right;\">\n",
       "      <th></th>\n",
       "      <th>0</th>\n",
       "      <th>0</th>\n",
       "    </tr>\n",
       "  </thead>\n",
       "  <tbody>\n",
       "    <tr>\n",
       "      <th>0</th>\n",
       "      <td>passenger_count</td>\n",
       "      <td>5.665077e-03</td>\n",
       "    </tr>\n",
       "    <tr>\n",
       "      <th>1</th>\n",
       "      <td>trip_distance</td>\n",
       "      <td>5.643066e-01</td>\n",
       "    </tr>\n",
       "    <tr>\n",
       "      <th>2</th>\n",
       "      <td>In_week</td>\n",
       "      <td>3.709616e+08</td>\n",
       "    </tr>\n",
       "    <tr>\n",
       "      <th>3</th>\n",
       "      <td>At_weekend</td>\n",
       "      <td>3.709616e+08</td>\n",
       "    </tr>\n",
       "    <tr>\n",
       "      <th>4</th>\n",
       "      <td>Morning</td>\n",
       "      <td>3.118261e+08</td>\n",
       "    </tr>\n",
       "    <tr>\n",
       "      <th>5</th>\n",
       "      <td>Afternoon</td>\n",
       "      <td>3.118261e+08</td>\n",
       "    </tr>\n",
       "    <tr>\n",
       "      <th>6</th>\n",
       "      <td>Evening</td>\n",
       "      <td>3.118261e+08</td>\n",
       "    </tr>\n",
       "    <tr>\n",
       "      <th>7</th>\n",
       "      <td>Night</td>\n",
       "      <td>3.118261e+08</td>\n",
       "    </tr>\n",
       "    <tr>\n",
       "      <th>8</th>\n",
       "      <td>m2</td>\n",
       "      <td>-2.800409e+11</td>\n",
       "    </tr>\n",
       "    <tr>\n",
       "      <th>9</th>\n",
       "      <td>m8</td>\n",
       "      <td>-2.800409e+11</td>\n",
       "    </tr>\n",
       "  </tbody>\n",
       "</table>\n",
       "</div>"
      ],
      "text/plain": [
       "                 0             0\n",
       "0  passenger_count  5.665077e-03\n",
       "1    trip_distance  5.643066e-01\n",
       "2          In_week  3.709616e+08\n",
       "3       At_weekend  3.709616e+08\n",
       "4          Morning  3.118261e+08\n",
       "5        Afternoon  3.118261e+08\n",
       "6          Evening  3.118261e+08\n",
       "7            Night  3.118261e+08\n",
       "8               m2 -2.800409e+11\n",
       "9               m8 -2.800409e+11"
      ]
     },
     "execution_count": 122,
     "metadata": {},
     "output_type": "execute_result"
    }
   ],
   "source": [
    "# Keep only columns to keep\n",
    "train_agg_final=train_agg[columns_to_keep]\n",
    "\n",
    "test_agg_final=test_agg[columns_to_keep]\n",
    "\n",
    "# Define variables\n",
    "variables2=['passenger_count','trip_distance','In_week','At_weekend','Morning','Afternoon','Evening','Night','m2','m8']\n",
    "target2=['tip_amount']\n",
    "\n",
    "lr2=LinearRegression()\n",
    "lr2.fit(train_agg_final[variables2],train_agg_final[target2])\n",
    "\n",
    "# Predict train and test data with LR2\n",
    "train_predictions_2=lr2.predict(train_agg_final[variables2])\n",
    "test_predictions_2=lr2.predict(test_agg_final[variables2])\n",
    "\n",
    "# Calculate RMSE\n",
    "train_2_rmse=np.sqrt(mean_squared_error(train_predictions_2,train_agg_final[target]))\n",
    "test_2_rmse=np.sqrt(mean_squared_error(test_predictions_2,test_agg_final[target]))\n",
    "\n",
    "print(train_2_rmse)\n",
    "print(test_2_rmse)\n",
    "\n",
    "\n",
    "\n",
    "lr2.coef_\n",
    "\n",
    "coefficients = pd.concat([pd.DataFrame(variables2),pd.DataFrame(np.transpose(lr2.coef_))], axis = 1)\n",
    "\n",
    "\n",
    "coefficients"
   ]
  },
  {
   "cell_type": "code",
   "execution_count": 123,
   "id": "39f526aa-3c27-42eb-819c-61e9d4462f87",
   "metadata": {},
   "outputs": [
    {
     "data": {
      "text/plain": [
       "array([2.7935816e+11])"
      ]
     },
     "execution_count": 123,
     "metadata": {},
     "output_type": "execute_result"
    }
   ],
   "source": [
    "lr2.intercept_"
   ]
  },
  {
   "cell_type": "markdown",
   "id": "71a09817-1137-4f99-bfe6-0ffeec2a39b9",
   "metadata": {},
   "source": [
    "From the coefficient above, the coffient is quite small. And further test is needed.\n",
    "## Test with fewer variables\n"
   ]
  },
  {
   "cell_type": "code",
   "execution_count": 124,
   "id": "c73c3a86-68ad-4fe5-9952-eec199aaebed",
   "metadata": {},
   "outputs": [
    {
     "name": "stdout",
     "output_type": "stream",
     "text": [
      "1.4530107213677632\n",
      "1.4521668172414302\n",
      "interceip:[1.02822097]\n"
     ]
    },
    {
     "data": {
      "text/html": [
       "<div>\n",
       "<style scoped>\n",
       "    .dataframe tbody tr th:only-of-type {\n",
       "        vertical-align: middle;\n",
       "    }\n",
       "\n",
       "    .dataframe tbody tr th {\n",
       "        vertical-align: top;\n",
       "    }\n",
       "\n",
       "    .dataframe thead th {\n",
       "        text-align: right;\n",
       "    }\n",
       "</style>\n",
       "<table border=\"1\" class=\"dataframe\">\n",
       "  <thead>\n",
       "    <tr style=\"text-align: right;\">\n",
       "      <th></th>\n",
       "      <th>0</th>\n",
       "      <th>0</th>\n",
       "    </tr>\n",
       "  </thead>\n",
       "  <tbody>\n",
       "    <tr>\n",
       "      <th>0</th>\n",
       "      <td>passenger_count</td>\n",
       "      <td>0.003910</td>\n",
       "    </tr>\n",
       "    <tr>\n",
       "      <th>1</th>\n",
       "      <td>trip_distance</td>\n",
       "      <td>0.562574</td>\n",
       "    </tr>\n",
       "    <tr>\n",
       "      <th>2</th>\n",
       "      <td>duration_min</td>\n",
       "      <td>0.000475</td>\n",
       "    </tr>\n",
       "  </tbody>\n",
       "</table>\n",
       "</div>"
      ],
      "text/plain": [
       "                 0         0\n",
       "0  passenger_count  0.003910\n",
       "1    trip_distance  0.562574\n",
       "2     duration_min  0.000475"
      ]
     },
     "execution_count": 124,
     "metadata": {},
     "output_type": "execute_result"
    }
   ],
   "source": [
    "# Keep only columns to keep\n",
    "train_agg_final=train_agg[columns_to_keep]\n",
    "\n",
    "test_agg_final=test_agg[columns_to_keep]\n",
    "\n",
    "# Define variables\n",
    "variables3=['passenger_count','trip_distance','duration_min']\n",
    "target3=['tip_amount']\n",
    "\n",
    "lr3=LinearRegression()\n",
    "lr3.fit(train_agg_final[variables3],train_agg_final[target3])\n",
    "\n",
    "# Predict train and test data with LR2\n",
    "train_predictions_3=lr3.predict(train_agg_final[variables3])\n",
    "test_predictions_3=lr3.predict(test_agg_final[variables3])\n",
    "\n",
    "# Calculate RMSE\n",
    "train_3_rmse=np.sqrt(mean_squared_error(train_predictions_3,train_agg_final[target]))\n",
    "test_3_rmse=np.sqrt(mean_squared_error(test_predictions_3,test_agg_final[target]))\n",
    "\n",
    "print(train_3_rmse)\n",
    "print(test_3_rmse)\n",
    "\n",
    "print(\"interceip:{}\".format(lr3.intercept_))\n",
    "\n",
    "lr3.coef_\n",
    "\n",
    "coefficients = pd.concat([pd.DataFrame(variables3),pd.DataFrame(np.transpose(lr3.coef_))], axis = 1)\n",
    "\n",
    "\n",
    "coefficients"
   ]
  }
 ],
 "metadata": {
  "interpreter": {
   "hash": "ef7b6a3cc7f61657f1c2f016bc321fa737d7fbd0eabcde912421adac12f8b28f"
  },
  "kernelspec": {
   "display_name": "Python 3.9.7 ('base')",
   "language": "python",
   "name": "python397jvsc74a57bd0b86d116a77f5053c6e2ace5061a5105875eadd7921eba7552adeb1f39f3d28cf"
  },
  "language_info": {
   "codemirror_mode": {
    "name": "ipython",
    "version": 3
   },
   "file_extension": ".py",
   "mimetype": "text/x-python",
   "name": "python",
   "nbconvert_exporter": "python",
   "pygments_lexer": "ipython3",
   "version": "3.9.7"
  }
 },
 "nbformat": 4,
 "nbformat_minor": 5
}
